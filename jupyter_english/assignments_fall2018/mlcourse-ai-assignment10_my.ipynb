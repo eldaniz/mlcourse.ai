{
 "cells": [
  {
   "cell_type": "markdown",
   "metadata": {
    "_uuid": "90e3a2685594cc6aae3914d3d519be153b050d78"
   },
   "source": [
    "\n",
    "\n",
    "Your task is to beat all benchmarks in this competition. Here you won’t be provided with detailed instructions. Hopefully, at this stage of the course, it's enough for you to take a quick look at the data in order to understand that this is the type of task where gradient boosting will do. Most likely it will be LightGBM. But you can try Xgboost or Catboost as well.\n",
    "\n",
    "<img src=\"https://habrastorage.org/webt/fs/42/ms/fs42ms0r7qsoj-da4x7yfntwrbq.jpeg\" width=30% />"
   ]
  },
  {
   "cell_type": "code",
   "execution_count": 1,
   "metadata": {
    "_uuid": "b486c4beb6f64fbeb70610a0e5ed7145256605e1"
   },
   "outputs": [],
   "source": [
    "import warnings\n",
    "warnings.filterwarnings('ignore')\n",
    "import numpy as np\n",
    "import pandas as pd\n",
    "from sklearn.preprocessing import StandardScaler, PolynomialFeatures\n",
    "from sklearn.pipeline import Pipeline\n",
    "from sklearn.model_selection import train_test_split\n",
    "from sklearn.linear_model import LogisticRegression\n",
    "from sklearn.metrics import roc_auc_score\n",
    "from sklearn.model_selection import GridSearchCV\n",
    "from sklearn.linear_model import SGDClassifier\n",
    "import matplotlib.pyplot as plt\n",
    "import seaborn as sns\n",
    "\n",
    "import os\n",
    "from sklearn.preprocessing import FunctionTransformer, OneHotEncoder, StandardScaler\n",
    "from sklearn.pipeline import Pipeline, FeatureUnion\n",
    "from sklearn.base import BaseEstimator, TransformerMixin\n",
    "import lightgbm as lgb\n",
    "\n",
    "import time"
   ]
  },
  {
   "cell_type": "code",
   "execution_count": 2,
   "metadata": {
    "_uuid": "2e7833f60e9392ba0526aec5b68ea8587ce90274"
   },
   "outputs": [
    {
     "data": {
      "text/plain": [
       "((100000, 9), (100000, 8))"
      ]
     },
     "execution_count": 2,
     "metadata": {},
     "output_type": "execute_result"
    }
   ],
   "source": [
    "PATH = '../../data'\n",
    "train_df = pd.read_csv('../../data/flight_delays_train.csv')\n",
    "test_df = pd.read_csv('../../data/flight_delays_test.csv')\n",
    "train_df.shape, test_df.shape"
   ]
  },
  {
   "cell_type": "code",
   "execution_count": 3,
   "metadata": {},
   "outputs": [],
   "source": [
    "categorical_vars = train_df.describe(include=[\"object\"]).columns[:-1]\n",
    "continuous_vars = train_df.describe().columns"
   ]
  },
  {
   "cell_type": "code",
   "execution_count": 4,
   "metadata": {},
   "outputs": [
    {
     "data": {
      "text/plain": [
       "Index(['Month', 'DayofMonth', 'DayOfWeek', 'UniqueCarrier', 'Origin', 'Dest'], dtype='object')"
      ]
     },
     "execution_count": 4,
     "metadata": {},
     "output_type": "execute_result"
    }
   ],
   "source": [
    "categorical_vars"
   ]
  },
  {
   "cell_type": "code",
   "execution_count": 5,
   "metadata": {},
   "outputs": [
    {
     "data": {
      "text/plain": [
       "Index(['DepTime', 'Distance'], dtype='object')"
      ]
     },
     "execution_count": 5,
     "metadata": {},
     "output_type": "execute_result"
    }
   ],
   "source": [
    "continuous_vars"
   ]
  },
  {
   "cell_type": "code",
   "execution_count": 6,
   "metadata": {},
   "outputs": [],
   "source": [
    "# Creating dummy variables\n",
    "data_dummies_df = pd.get_dummies(train_df, columns=categorical_vars, drop_first=True)\n",
    "holdout_dummies_df = pd.get_dummies(test_df, columns=categorical_vars, drop_first=True)"
   ]
  },
  {
   "cell_type": "code",
   "execution_count": 7,
   "metadata": {},
   "outputs": [],
   "source": [
    "# data_dummies_df.head()"
   ]
  },
  {
   "cell_type": "code",
   "execution_count": 8,
   "metadata": {},
   "outputs": [
    {
     "name": "stdout",
     "output_type": "stream",
     "text": [
      "<class 'pandas.core.frame.DataFrame'>\n",
      "RangeIndex: 100000 entries, 0 to 99999\n",
      "Data columns (total 9 columns):\n",
      "Month                100000 non-null object\n",
      "DayofMonth           100000 non-null object\n",
      "DayOfWeek            100000 non-null object\n",
      "DepTime              100000 non-null int64\n",
      "UniqueCarrier        100000 non-null object\n",
      "Origin               100000 non-null object\n",
      "Dest                 100000 non-null object\n",
      "Distance             100000 non-null int64\n",
      "dep_delayed_15min    100000 non-null object\n",
      "dtypes: int64(2), object(7)\n",
      "memory usage: 6.9+ MB\n"
     ]
    }
   ],
   "source": [
    "train_df.info()"
   ]
  },
  {
   "cell_type": "code",
   "execution_count": 9,
   "metadata": {
    "_uuid": "c02aa9ea53a2733cd5683bd10beed2b561acf7bb"
   },
   "outputs": [
    {
     "data": {
      "text/html": [
       "<div>\n",
       "<style scoped>\n",
       "    .dataframe tbody tr th:only-of-type {\n",
       "        vertical-align: middle;\n",
       "    }\n",
       "\n",
       "    .dataframe tbody tr th {\n",
       "        vertical-align: top;\n",
       "    }\n",
       "\n",
       "    .dataframe thead th {\n",
       "        text-align: right;\n",
       "    }\n",
       "</style>\n",
       "<table border=\"1\" class=\"dataframe\">\n",
       "  <thead>\n",
       "    <tr style=\"text-align: right;\">\n",
       "      <th></th>\n",
       "      <th>Month</th>\n",
       "      <th>DayofMonth</th>\n",
       "      <th>DayOfWeek</th>\n",
       "      <th>DepTime</th>\n",
       "      <th>UniqueCarrier</th>\n",
       "      <th>Origin</th>\n",
       "      <th>Dest</th>\n",
       "      <th>Distance</th>\n",
       "      <th>dep_delayed_15min</th>\n",
       "    </tr>\n",
       "  </thead>\n",
       "  <tbody>\n",
       "    <tr>\n",
       "      <th>0</th>\n",
       "      <td>c-8</td>\n",
       "      <td>c-21</td>\n",
       "      <td>c-7</td>\n",
       "      <td>1934</td>\n",
       "      <td>AA</td>\n",
       "      <td>ATL</td>\n",
       "      <td>DFW</td>\n",
       "      <td>732</td>\n",
       "      <td>N</td>\n",
       "    </tr>\n",
       "    <tr>\n",
       "      <th>1</th>\n",
       "      <td>c-4</td>\n",
       "      <td>c-20</td>\n",
       "      <td>c-3</td>\n",
       "      <td>1548</td>\n",
       "      <td>US</td>\n",
       "      <td>PIT</td>\n",
       "      <td>MCO</td>\n",
       "      <td>834</td>\n",
       "      <td>N</td>\n",
       "    </tr>\n",
       "    <tr>\n",
       "      <th>2</th>\n",
       "      <td>c-9</td>\n",
       "      <td>c-2</td>\n",
       "      <td>c-5</td>\n",
       "      <td>1422</td>\n",
       "      <td>XE</td>\n",
       "      <td>RDU</td>\n",
       "      <td>CLE</td>\n",
       "      <td>416</td>\n",
       "      <td>N</td>\n",
       "    </tr>\n",
       "    <tr>\n",
       "      <th>3</th>\n",
       "      <td>c-11</td>\n",
       "      <td>c-25</td>\n",
       "      <td>c-6</td>\n",
       "      <td>1015</td>\n",
       "      <td>OO</td>\n",
       "      <td>DEN</td>\n",
       "      <td>MEM</td>\n",
       "      <td>872</td>\n",
       "      <td>N</td>\n",
       "    </tr>\n",
       "    <tr>\n",
       "      <th>4</th>\n",
       "      <td>c-10</td>\n",
       "      <td>c-7</td>\n",
       "      <td>c-6</td>\n",
       "      <td>1828</td>\n",
       "      <td>WN</td>\n",
       "      <td>MDW</td>\n",
       "      <td>OMA</td>\n",
       "      <td>423</td>\n",
       "      <td>Y</td>\n",
       "    </tr>\n",
       "  </tbody>\n",
       "</table>\n",
       "</div>"
      ],
      "text/plain": [
       "  Month DayofMonth DayOfWeek  DepTime UniqueCarrier Origin Dest  Distance  \\\n",
       "0   c-8       c-21       c-7     1934            AA    ATL  DFW       732   \n",
       "1   c-4       c-20       c-3     1548            US    PIT  MCO       834   \n",
       "2   c-9        c-2       c-5     1422            XE    RDU  CLE       416   \n",
       "3  c-11       c-25       c-6     1015            OO    DEN  MEM       872   \n",
       "4  c-10        c-7       c-6     1828            WN    MDW  OMA       423   \n",
       "\n",
       "  dep_delayed_15min  \n",
       "0                 N  \n",
       "1                 N  \n",
       "2                 N  \n",
       "3                 N  \n",
       "4                 Y  "
      ]
     },
     "execution_count": 9,
     "metadata": {},
     "output_type": "execute_result"
    }
   ],
   "source": [
    "train_df.head()"
   ]
  },
  {
   "cell_type": "code",
   "execution_count": 10,
   "metadata": {
    "_uuid": "4a0f1e18cc9b10cfd4f098183511f21722e61752"
   },
   "outputs": [
    {
     "data": {
      "text/html": [
       "<div>\n",
       "<style scoped>\n",
       "    .dataframe tbody tr th:only-of-type {\n",
       "        vertical-align: middle;\n",
       "    }\n",
       "\n",
       "    .dataframe tbody tr th {\n",
       "        vertical-align: top;\n",
       "    }\n",
       "\n",
       "    .dataframe thead th {\n",
       "        text-align: right;\n",
       "    }\n",
       "</style>\n",
       "<table border=\"1\" class=\"dataframe\">\n",
       "  <thead>\n",
       "    <tr style=\"text-align: right;\">\n",
       "      <th></th>\n",
       "      <th>Month</th>\n",
       "      <th>DayofMonth</th>\n",
       "      <th>DayOfWeek</th>\n",
       "      <th>DepTime</th>\n",
       "      <th>UniqueCarrier</th>\n",
       "      <th>Origin</th>\n",
       "      <th>Dest</th>\n",
       "      <th>Distance</th>\n",
       "    </tr>\n",
       "  </thead>\n",
       "  <tbody>\n",
       "    <tr>\n",
       "      <th>0</th>\n",
       "      <td>c-7</td>\n",
       "      <td>c-25</td>\n",
       "      <td>c-3</td>\n",
       "      <td>615</td>\n",
       "      <td>YV</td>\n",
       "      <td>MRY</td>\n",
       "      <td>PHX</td>\n",
       "      <td>598</td>\n",
       "    </tr>\n",
       "    <tr>\n",
       "      <th>1</th>\n",
       "      <td>c-4</td>\n",
       "      <td>c-17</td>\n",
       "      <td>c-2</td>\n",
       "      <td>739</td>\n",
       "      <td>WN</td>\n",
       "      <td>LAS</td>\n",
       "      <td>HOU</td>\n",
       "      <td>1235</td>\n",
       "    </tr>\n",
       "    <tr>\n",
       "      <th>2</th>\n",
       "      <td>c-12</td>\n",
       "      <td>c-2</td>\n",
       "      <td>c-7</td>\n",
       "      <td>651</td>\n",
       "      <td>MQ</td>\n",
       "      <td>GSP</td>\n",
       "      <td>ORD</td>\n",
       "      <td>577</td>\n",
       "    </tr>\n",
       "    <tr>\n",
       "      <th>3</th>\n",
       "      <td>c-3</td>\n",
       "      <td>c-25</td>\n",
       "      <td>c-7</td>\n",
       "      <td>1614</td>\n",
       "      <td>WN</td>\n",
       "      <td>BWI</td>\n",
       "      <td>MHT</td>\n",
       "      <td>377</td>\n",
       "    </tr>\n",
       "    <tr>\n",
       "      <th>4</th>\n",
       "      <td>c-6</td>\n",
       "      <td>c-6</td>\n",
       "      <td>c-3</td>\n",
       "      <td>1505</td>\n",
       "      <td>UA</td>\n",
       "      <td>ORD</td>\n",
       "      <td>STL</td>\n",
       "      <td>258</td>\n",
       "    </tr>\n",
       "  </tbody>\n",
       "</table>\n",
       "</div>"
      ],
      "text/plain": [
       "  Month DayofMonth DayOfWeek  DepTime UniqueCarrier Origin Dest  Distance\n",
       "0   c-7       c-25       c-3      615            YV    MRY  PHX       598\n",
       "1   c-4       c-17       c-2      739            WN    LAS  HOU      1235\n",
       "2  c-12        c-2       c-7      651            MQ    GSP  ORD       577\n",
       "3   c-3       c-25       c-7     1614            WN    BWI  MHT       377\n",
       "4   c-6        c-6       c-3     1505            UA    ORD  STL       258"
      ]
     },
     "execution_count": 10,
     "metadata": {},
     "output_type": "execute_result"
    }
   ],
   "source": [
    "test_df.head()"
   ]
  },
  {
   "cell_type": "code",
   "execution_count": 11,
   "metadata": {},
   "outputs": [
    {
     "data": {
      "text/plain": [
       "((100000, 9), (100000, 8))"
      ]
     },
     "execution_count": 11,
     "metadata": {},
     "output_type": "execute_result"
    }
   ],
   "source": [
    "train_df['DepTime'] = train_df['DepTime'].apply(lambda x: x-2400 if x >= 2400 else x)\n",
    "test_df['DepTime'] = test_df['DepTime'].apply(lambda x: x-2400 if x >= 2400 else x)\n",
    "train_df.shape, test_df.shape"
   ]
  },
  {
   "cell_type": "code",
   "execution_count": 12,
   "metadata": {},
   "outputs": [
    {
     "data": {
      "text/html": [
       "<div>\n",
       "<style scoped>\n",
       "    .dataframe tbody tr th:only-of-type {\n",
       "        vertical-align: middle;\n",
       "    }\n",
       "\n",
       "    .dataframe tbody tr th {\n",
       "        vertical-align: top;\n",
       "    }\n",
       "\n",
       "    .dataframe thead th {\n",
       "        text-align: right;\n",
       "    }\n",
       "</style>\n",
       "<table border=\"1\" class=\"dataframe\">\n",
       "  <thead>\n",
       "    <tr style=\"text-align: right;\">\n",
       "      <th></th>\n",
       "      <th>Month</th>\n",
       "      <th>DayofMonth</th>\n",
       "      <th>DayOfWeek</th>\n",
       "      <th>DepTime</th>\n",
       "      <th>UniqueCarrier</th>\n",
       "      <th>Origin</th>\n",
       "      <th>Dest</th>\n",
       "      <th>Distance</th>\n",
       "      <th>dep_delayed_15min</th>\n",
       "    </tr>\n",
       "  </thead>\n",
       "  <tbody>\n",
       "  </tbody>\n",
       "</table>\n",
       "</div>"
      ],
      "text/plain": [
       "Empty DataFrame\n",
       "Columns: [Month, DayofMonth, DayOfWeek, DepTime, UniqueCarrier, Origin, Dest, Distance, dep_delayed_15min]\n",
       "Index: []"
      ]
     },
     "execution_count": 12,
     "metadata": {},
     "output_type": "execute_result"
    }
   ],
   "source": [
    "train_df[train_df['DepTime'] >= 2400]"
   ]
  },
  {
   "cell_type": "code",
   "execution_count": 13,
   "metadata": {},
   "outputs": [
    {
     "data": {
      "text/html": [
       "<div>\n",
       "<style scoped>\n",
       "    .dataframe tbody tr th:only-of-type {\n",
       "        vertical-align: middle;\n",
       "    }\n",
       "\n",
       "    .dataframe tbody tr th {\n",
       "        vertical-align: top;\n",
       "    }\n",
       "\n",
       "    .dataframe thead th {\n",
       "        text-align: right;\n",
       "    }\n",
       "</style>\n",
       "<table border=\"1\" class=\"dataframe\">\n",
       "  <thead>\n",
       "    <tr style=\"text-align: right;\">\n",
       "      <th></th>\n",
       "      <th>Month</th>\n",
       "      <th>DayofMonth</th>\n",
       "      <th>DayOfWeek</th>\n",
       "      <th>DepTime</th>\n",
       "      <th>UniqueCarrier</th>\n",
       "      <th>Origin</th>\n",
       "      <th>Dest</th>\n",
       "      <th>Distance</th>\n",
       "      <th>dep_delayed_15min</th>\n",
       "    </tr>\n",
       "  </thead>\n",
       "  <tbody>\n",
       "    <tr>\n",
       "      <th>0</th>\n",
       "      <td>8</td>\n",
       "      <td>21</td>\n",
       "      <td>7</td>\n",
       "      <td>1934</td>\n",
       "      <td>AA</td>\n",
       "      <td>ATL</td>\n",
       "      <td>DFW</td>\n",
       "      <td>732</td>\n",
       "      <td>N</td>\n",
       "    </tr>\n",
       "    <tr>\n",
       "      <th>1</th>\n",
       "      <td>4</td>\n",
       "      <td>20</td>\n",
       "      <td>3</td>\n",
       "      <td>1548</td>\n",
       "      <td>US</td>\n",
       "      <td>PIT</td>\n",
       "      <td>MCO</td>\n",
       "      <td>834</td>\n",
       "      <td>N</td>\n",
       "    </tr>\n",
       "    <tr>\n",
       "      <th>2</th>\n",
       "      <td>9</td>\n",
       "      <td>2</td>\n",
       "      <td>5</td>\n",
       "      <td>1422</td>\n",
       "      <td>XE</td>\n",
       "      <td>RDU</td>\n",
       "      <td>CLE</td>\n",
       "      <td>416</td>\n",
       "      <td>N</td>\n",
       "    </tr>\n",
       "    <tr>\n",
       "      <th>3</th>\n",
       "      <td>11</td>\n",
       "      <td>25</td>\n",
       "      <td>6</td>\n",
       "      <td>1015</td>\n",
       "      <td>OO</td>\n",
       "      <td>DEN</td>\n",
       "      <td>MEM</td>\n",
       "      <td>872</td>\n",
       "      <td>N</td>\n",
       "    </tr>\n",
       "    <tr>\n",
       "      <th>4</th>\n",
       "      <td>10</td>\n",
       "      <td>7</td>\n",
       "      <td>6</td>\n",
       "      <td>1828</td>\n",
       "      <td>WN</td>\n",
       "      <td>MDW</td>\n",
       "      <td>OMA</td>\n",
       "      <td>423</td>\n",
       "      <td>Y</td>\n",
       "    </tr>\n",
       "  </tbody>\n",
       "</table>\n",
       "</div>"
      ],
      "text/plain": [
       "   Month  DayofMonth  DayOfWeek  DepTime UniqueCarrier Origin Dest  Distance  \\\n",
       "0      8          21          7     1934            AA    ATL  DFW       732   \n",
       "1      4          20          3     1548            US    PIT  MCO       834   \n",
       "2      9           2          5     1422            XE    RDU  CLE       416   \n",
       "3     11          25          6     1015            OO    DEN  MEM       872   \n",
       "4     10           7          6     1828            WN    MDW  OMA       423   \n",
       "\n",
       "  dep_delayed_15min  \n",
       "0                 N  \n",
       "1                 N  \n",
       "2                 N  \n",
       "3                 N  \n",
       "4                 Y  "
      ]
     },
     "execution_count": 13,
     "metadata": {},
     "output_type": "execute_result"
    }
   ],
   "source": [
    "train_df['Month'] = train_df['Month'].apply(lambda x: str(x)[2:]).astype('int')\n",
    "train_df['DayOfWeek'] = train_df['DayOfWeek'].apply(lambda x: str(x)[2:]).astype('int')\n",
    "train_df['DayofMonth'] = train_df['DayofMonth'].apply(lambda x: str(x)[2:]).astype('int')\n",
    "train_df.head()"
   ]
  },
  {
   "cell_type": "code",
   "execution_count": 14,
   "metadata": {},
   "outputs": [
    {
     "data": {
      "text/html": [
       "<div>\n",
       "<style scoped>\n",
       "    .dataframe tbody tr th:only-of-type {\n",
       "        vertical-align: middle;\n",
       "    }\n",
       "\n",
       "    .dataframe tbody tr th {\n",
       "        vertical-align: top;\n",
       "    }\n",
       "\n",
       "    .dataframe thead th {\n",
       "        text-align: right;\n",
       "    }\n",
       "</style>\n",
       "<table border=\"1\" class=\"dataframe\">\n",
       "  <thead>\n",
       "    <tr style=\"text-align: right;\">\n",
       "      <th></th>\n",
       "      <th>Month</th>\n",
       "      <th>DayofMonth</th>\n",
       "      <th>DayOfWeek</th>\n",
       "      <th>DepTime</th>\n",
       "      <th>UniqueCarrier</th>\n",
       "      <th>Origin</th>\n",
       "      <th>Dest</th>\n",
       "      <th>Distance</th>\n",
       "    </tr>\n",
       "  </thead>\n",
       "  <tbody>\n",
       "    <tr>\n",
       "      <th>0</th>\n",
       "      <td>7</td>\n",
       "      <td>25</td>\n",
       "      <td>3</td>\n",
       "      <td>615</td>\n",
       "      <td>YV</td>\n",
       "      <td>MRY</td>\n",
       "      <td>PHX</td>\n",
       "      <td>598</td>\n",
       "    </tr>\n",
       "    <tr>\n",
       "      <th>1</th>\n",
       "      <td>4</td>\n",
       "      <td>17</td>\n",
       "      <td>2</td>\n",
       "      <td>739</td>\n",
       "      <td>WN</td>\n",
       "      <td>LAS</td>\n",
       "      <td>HOU</td>\n",
       "      <td>1235</td>\n",
       "    </tr>\n",
       "    <tr>\n",
       "      <th>2</th>\n",
       "      <td>12</td>\n",
       "      <td>2</td>\n",
       "      <td>7</td>\n",
       "      <td>651</td>\n",
       "      <td>MQ</td>\n",
       "      <td>GSP</td>\n",
       "      <td>ORD</td>\n",
       "      <td>577</td>\n",
       "    </tr>\n",
       "    <tr>\n",
       "      <th>3</th>\n",
       "      <td>3</td>\n",
       "      <td>25</td>\n",
       "      <td>7</td>\n",
       "      <td>1614</td>\n",
       "      <td>WN</td>\n",
       "      <td>BWI</td>\n",
       "      <td>MHT</td>\n",
       "      <td>377</td>\n",
       "    </tr>\n",
       "    <tr>\n",
       "      <th>4</th>\n",
       "      <td>6</td>\n",
       "      <td>6</td>\n",
       "      <td>3</td>\n",
       "      <td>1505</td>\n",
       "      <td>UA</td>\n",
       "      <td>ORD</td>\n",
       "      <td>STL</td>\n",
       "      <td>258</td>\n",
       "    </tr>\n",
       "  </tbody>\n",
       "</table>\n",
       "</div>"
      ],
      "text/plain": [
       "   Month  DayofMonth  DayOfWeek  DepTime UniqueCarrier Origin Dest  Distance\n",
       "0      7          25          3      615            YV    MRY  PHX       598\n",
       "1      4          17          2      739            WN    LAS  HOU      1235\n",
       "2     12           2          7      651            MQ    GSP  ORD       577\n",
       "3      3          25          7     1614            WN    BWI  MHT       377\n",
       "4      6           6          3     1505            UA    ORD  STL       258"
      ]
     },
     "execution_count": 14,
     "metadata": {},
     "output_type": "execute_result"
    }
   ],
   "source": [
    "test_df['Month'] = test_df['Month'].apply(lambda x: str(x)[2:]).astype('int')\n",
    "test_df['DayOfWeek'] = test_df['DayOfWeek'].apply(lambda x: str(x)[2:]).astype('int')\n",
    "test_df['DayofMonth'] = test_df['DayofMonth'].apply(lambda x: str(x)[2:]).astype('int')\n",
    "test_df.head()"
   ]
  },
  {
   "cell_type": "code",
   "execution_count": 15,
   "metadata": {},
   "outputs": [],
   "source": [
    "full_df = pd.concat([train_df, test_df])"
   ]
  },
  {
   "cell_type": "code",
   "execution_count": 16,
   "metadata": {},
   "outputs": [
    {
     "data": {
      "text/html": [
       "<div>\n",
       "<style scoped>\n",
       "    .dataframe tbody tr th:only-of-type {\n",
       "        vertical-align: middle;\n",
       "    }\n",
       "\n",
       "    .dataframe tbody tr th {\n",
       "        vertical-align: top;\n",
       "    }\n",
       "\n",
       "    .dataframe thead th {\n",
       "        text-align: right;\n",
       "    }\n",
       "</style>\n",
       "<table border=\"1\" class=\"dataframe\">\n",
       "  <thead>\n",
       "    <tr style=\"text-align: right;\">\n",
       "      <th></th>\n",
       "      <th>DayOfWeek</th>\n",
       "      <th>DayofMonth</th>\n",
       "      <th>DepTime</th>\n",
       "      <th>Dest</th>\n",
       "      <th>Distance</th>\n",
       "      <th>Month</th>\n",
       "      <th>Origin</th>\n",
       "      <th>UniqueCarrier</th>\n",
       "      <th>dep_delayed_15min</th>\n",
       "    </tr>\n",
       "  </thead>\n",
       "  <tbody>\n",
       "    <tr>\n",
       "      <th>0</th>\n",
       "      <td>7</td>\n",
       "      <td>21</td>\n",
       "      <td>1934</td>\n",
       "      <td>DFW</td>\n",
       "      <td>732</td>\n",
       "      <td>8</td>\n",
       "      <td>ATL</td>\n",
       "      <td>AA</td>\n",
       "      <td>N</td>\n",
       "    </tr>\n",
       "    <tr>\n",
       "      <th>1</th>\n",
       "      <td>3</td>\n",
       "      <td>20</td>\n",
       "      <td>1548</td>\n",
       "      <td>MCO</td>\n",
       "      <td>834</td>\n",
       "      <td>4</td>\n",
       "      <td>PIT</td>\n",
       "      <td>US</td>\n",
       "      <td>N</td>\n",
       "    </tr>\n",
       "    <tr>\n",
       "      <th>2</th>\n",
       "      <td>5</td>\n",
       "      <td>2</td>\n",
       "      <td>1422</td>\n",
       "      <td>CLE</td>\n",
       "      <td>416</td>\n",
       "      <td>9</td>\n",
       "      <td>RDU</td>\n",
       "      <td>XE</td>\n",
       "      <td>N</td>\n",
       "    </tr>\n",
       "    <tr>\n",
       "      <th>3</th>\n",
       "      <td>6</td>\n",
       "      <td>25</td>\n",
       "      <td>1015</td>\n",
       "      <td>MEM</td>\n",
       "      <td>872</td>\n",
       "      <td>11</td>\n",
       "      <td>DEN</td>\n",
       "      <td>OO</td>\n",
       "      <td>N</td>\n",
       "    </tr>\n",
       "    <tr>\n",
       "      <th>4</th>\n",
       "      <td>6</td>\n",
       "      <td>7</td>\n",
       "      <td>1828</td>\n",
       "      <td>OMA</td>\n",
       "      <td>423</td>\n",
       "      <td>10</td>\n",
       "      <td>MDW</td>\n",
       "      <td>WN</td>\n",
       "      <td>Y</td>\n",
       "    </tr>\n",
       "  </tbody>\n",
       "</table>\n",
       "</div>"
      ],
      "text/plain": [
       "   DayOfWeek  DayofMonth  DepTime Dest  Distance  Month Origin UniqueCarrier  \\\n",
       "0          7          21     1934  DFW       732      8    ATL            AA   \n",
       "1          3          20     1548  MCO       834      4    PIT            US   \n",
       "2          5           2     1422  CLE       416      9    RDU            XE   \n",
       "3          6          25     1015  MEM       872     11    DEN            OO   \n",
       "4          6           7     1828  OMA       423     10    MDW            WN   \n",
       "\n",
       "  dep_delayed_15min  \n",
       "0                 N  \n",
       "1                 N  \n",
       "2                 N  \n",
       "3                 N  \n",
       "4                 Y  "
      ]
     },
     "execution_count": 16,
     "metadata": {},
     "output_type": "execute_result"
    }
   ],
   "source": [
    "full_df.head()"
   ]
  },
  {
   "cell_type": "code",
   "execution_count": 17,
   "metadata": {},
   "outputs": [],
   "source": [
    "delayed = train_df[train_df['dep_delayed_15min']==1]\n",
    "delayed.head()\n",
    "top_10_delayed = delayed.groupby('UniqueCarrier')['dep_delayed_15min'].size().sort_values(ascending=False).head(10)\n",
    "top_10_delayed\n",
    "top_10_delayed = top_10_delayed.index.values# loc['AA']#[top_10_delayed == 'AA']"
   ]
  },
  {
   "cell_type": "code",
   "execution_count": 18,
   "metadata": {},
   "outputs": [
    {
     "data": {
      "text/plain": [
       "<matplotlib.axes._subplots.AxesSubplot at 0x28379888ba8>"
      ]
     },
     "execution_count": 18,
     "metadata": {},
     "output_type": "execute_result"
    },
    {
     "data": {
      "image/png": "[encoded data removed]",
      "text/plain": [
       "<Figure size 432x288 with 1 Axes>"
      ]
     },
     "metadata": {
      "needs_background": "light"
     },
     "output_type": "display_data"
    }
   ],
   "source": [
    "sns.countplot(train_df['DayOfWeek'], hue=train_df['dep_delayed_15min'])"
   ]
  },
  {
   "cell_type": "code",
   "execution_count": 19,
   "metadata": {},
   "outputs": [
    {
     "data": {
      "image/png": "[encoded data removed]",
      "text/plain": [
       "<Figure size 1080x432 with 2 Axes>"
      ]
     },
     "metadata": {
      "needs_background": "light"
     },
     "output_type": "display_data"
    }
   ],
   "source": [
    "_, axes = plt.subplots(nrows=1, ncols=2, figsize=(15, 6))\n",
    "sns.countplot(train_df['Month'], hue=train_df['dep_delayed_15min'], ax=axes[0])\n",
    "axes[0].set_title('Train Data');\n",
    "sns.countplot(test_df['Month'], ax=axes[1])\n",
    "axes[1].set_title('Test Data');"
   ]
  },
  {
   "cell_type": "code",
   "execution_count": 20,
   "metadata": {},
   "outputs": [
    {
     "data": {
      "image/png": "[encoded data removed]",
      "text/plain": [
       "<Figure size 468.25x360 with 1 Axes>"
      ]
     },
     "metadata": {
      "needs_background": "light"
     },
     "output_type": "display_data"
    },
    {
     "data": {
      "image/png": "[encoded data removed]",
      "text/plain": [
       "<Figure size 468.25x360 with 1 Axes>"
      ]
     },
     "metadata": {
      "needs_background": "light"
     },
     "output_type": "display_data"
    },
    {
     "data": {
      "image/png": "[encoded data removed]",
      "text/plain": [
       "<Figure size 468.25x360 with 1 Axes>"
      ]
     },
     "metadata": {
      "needs_background": "light"
     },
     "output_type": "display_data"
    }
   ],
   "source": [
    "# _, axes = plt.subplots(nrows=2, ncols=2, figsize=(15, 6))\n",
    "sns.lmplot('Distance', 'DepTime', data=train_df, hue='dep_delayed_15min', fit_reg=False);\n",
    "grid = sns.lmplot('Distance', 'DepTime', data=train_df, hue='dep_delayed_15min', fit_reg=False);\n",
    "grid.set(xlim=(0, 1000), ylim=(0, 400));\n",
    "\n",
    "grid = sns.lmplot('Distance', 'DepTime', data=train_df, hue='dep_delayed_15min', fit_reg=False);\n",
    "grid.set(xlim=(2500, 5500), ylim=(500,2400));"
   ]
  },
  {
   "cell_type": "code",
   "execution_count": null,
   "metadata": {},
   "outputs": [],
   "source": []
  },
  {
   "cell_type": "code",
   "execution_count": 21,
   "metadata": {},
   "outputs": [
    {
     "data": {
      "image/png": "[encoded data removed]",
      "text/plain": [
       "<Figure size 900x900 with 30 Axes>"
      ]
     },
     "metadata": {
      "needs_background": "light"
     },
     "output_type": "display_data"
    }
   ],
   "source": [
    "# `pairplot()` may become very slow with the SVG format\n",
    "%config InlineBackend.figure_format = 'png' \n",
    "sns.pairplot(train_df[['DayOfWeek', 'DayofMonth', 'DepTime', 'Dest', 'Distance', \n",
    "                       'Month', 'Origin', 'UniqueCarrier']]);"
   ]
  },
  {
   "cell_type": "code",
   "execution_count": null,
   "metadata": {},
   "outputs": [],
   "source": []
  },
  {
   "cell_type": "code",
   "execution_count": null,
   "metadata": {},
   "outputs": [],
   "source": []
  },
  {
   "cell_type": "code",
   "execution_count": null,
   "metadata": {},
   "outputs": [],
   "source": []
  },
  {
   "cell_type": "code",
   "execution_count": 22,
   "metadata": {},
   "outputs": [
    {
     "data": {
      "text/plain": [
       "OneHotEncoder(categorical_features=None, categories=None,\n",
       "       dtype=<class 'numpy.float64'>, handle_unknown='error',\n",
       "       n_values=None, sparse=True)"
      ]
     },
     "execution_count": 22,
     "metadata": {},
     "output_type": "execute_result"
    }
   ],
   "source": [
    "uniq_carrier_encoder = OneHotEncoder()\n",
    "uniq_carrier_encoder.fit(full_df[['UniqueCarrier']])"
   ]
  },
  {
   "cell_type": "code",
   "execution_count": 23,
   "metadata": {},
   "outputs": [
    {
     "data": {
      "text/plain": [
       "OneHotEncoder(categorical_features=None, categories=None,\n",
       "       dtype=<class 'numpy.float64'>, handle_unknown='error',\n",
       "       n_values=None, sparse=True)"
      ]
     },
     "execution_count": 23,
     "metadata": {},
     "output_type": "execute_result"
    }
   ],
   "source": [
    "origin_encoder = OneHotEncoder()\n",
    "origin_encoder.fit(full_df[['Origin']])"
   ]
  },
  {
   "cell_type": "code",
   "execution_count": 24,
   "metadata": {},
   "outputs": [
    {
     "data": {
      "text/plain": [
       "OneHotEncoder(categorical_features=None, categories=None,\n",
       "       dtype=<class 'numpy.float64'>, handle_unknown='error',\n",
       "       n_values=None, sparse=True)"
      ]
     },
     "execution_count": 24,
     "metadata": {},
     "output_type": "execute_result"
    }
   ],
   "source": [
    "dest_encoder = OneHotEncoder()\n",
    "dest_encoder.fit(full_df[['Dest']])"
   ]
  },
  {
   "cell_type": "code",
   "execution_count": null,
   "metadata": {},
   "outputs": [],
   "source": []
  },
  {
   "cell_type": "code",
   "execution_count": 69,
   "metadata": {},
   "outputs": [
    {
     "data": {
      "image/png": "[encoded data removed]",
      "text/plain": [
       "<Figure size 432x288 with 1 Axes>"
      ]
     },
     "metadata": {
      "needs_background": "light"
     },
     "output_type": "display_data"
    },
    {
     "data": {
      "image/png": "[encoded data removed]",
      "text/plain": [
       "<Figure size 432x288 with 1 Axes>"
      ]
     },
     "metadata": {
      "needs_background": "light"
     },
     "output_type": "display_data"
    }
   ],
   "source": [
    "train_df[train_df['dep_delayed_15min']==1].groupby('UniqueCarrier').size().plot(kind='bar');\n",
    "plt.title('Delayed=1')\n",
    "plt.show();\n",
    "train_df[train_df['dep_delayed_15min']==0].groupby('UniqueCarrier').size().plot(kind='bar');\n",
    "plt.title('Delayed=0');"
   ]
  },
  {
   "cell_type": "code",
   "execution_count": 26,
   "metadata": {},
   "outputs": [
    {
     "data": {
      "image/png": "[encoded data removed]",
      "text/plain": [
       "<Figure size 432x288 with 1 Axes>"
      ]
     },
     "metadata": {
      "needs_background": "light"
     },
     "output_type": "display_data"
    }
   ],
   "source": [
    "test_df.groupby('UniqueCarrier').size().plot(kind='bar');"
   ]
  },
  {
   "cell_type": "markdown",
   "metadata": {
    "_uuid": "ce71f38fec3d94108609ef0cae861010ab0e8ca6"
   },
   "source": [
    "Given flight departure time, carrier's code, departure airport, destination location, and flight distance, you have to predict departure delay for more than 15 minutes. As the simplest benchmark, let's take logistic regression and two features that are easiest to take: DepTime and Distance. This will correspond to **\"simple logit baseline\"** on Public LB."
   ]
  },
  {
   "cell_type": "code",
   "execution_count": 27,
   "metadata": {
    "_uuid": "5bac98797b2bfb23851d735ec3761fc0e1401e61"
   },
   "outputs": [],
   "source": [
    "X_train, y_train = train_df[['Distance', 'DepTime']].values, train_df['dep_delayed_15min'].map({'Y': 1, 'N': 0}).values\n",
    "X_test = test_df[['Distance', 'DepTime']].values\n",
    "\n",
    "X_train_part, X_valid, y_train_part, y_valid = \\\n",
    "    train_test_split(X_train, y_train, \n",
    "                     test_size=0.3, random_state=17)"
   ]
  },
  {
   "cell_type": "code",
   "execution_count": 28,
   "metadata": {
    "_uuid": "6e99742ad807b66899de68241b60cf8310fb306c"
   },
   "outputs": [],
   "source": [
    "logit_pipe = Pipeline([    \n",
    "    ('scaler', StandardScaler()),\n",
    "#     ('poly', PolynomialFeatures(degree=2)),\n",
    "    ('logit', LogisticRegression(C=1, random_state=17, solver='liblinear'))])"
   ]
  },
  {
   "cell_type": "code",
   "execution_count": 29,
   "metadata": {
    "_uuid": "309be359915c00cbad41384a08926ddf25d47c7b"
   },
   "outputs": [
    {
     "name": "stderr",
     "output_type": "stream",
     "text": [
      "D:\\DiskD\\Eldaniz\\Anaconda3\\lib\\site-packages\\sklearn\\utils\\validation.py:590: DataConversionWarning: Data with input dtype int64 was converted to float64 by StandardScaler.\n",
      "  warnings.warn(msg, DataConversionWarning)\n",
      "D:\\DiskD\\Eldaniz\\Anaconda3\\lib\\site-packages\\sklearn\\utils\\validation.py:590: DataConversionWarning: Data with input dtype int64 was converted to float64 by StandardScaler.\n",
      "  warnings.warn(msg, DataConversionWarning)\n",
      "D:\\DiskD\\Eldaniz\\Anaconda3\\lib\\site-packages\\sklearn\\utils\\validation.py:590: DataConversionWarning: Data with input dtype int64 was converted to float64 by StandardScaler.\n",
      "  warnings.warn(msg, DataConversionWarning)\n"
     ]
    },
    {
     "data": {
      "text/plain": [
       "0.6788103064915998"
      ]
     },
     "execution_count": 29,
     "metadata": {},
     "output_type": "execute_result"
    }
   ],
   "source": [
    "logit_pipe.fit(X_train_part, y_train_part)\n",
    "logit_valid_pred = logit_pipe.predict_proba(X_valid)[:, 1]\n",
    "\n",
    "roc_auc_score(y_valid, logit_valid_pred)"
   ]
  },
  {
   "cell_type": "code",
   "execution_count": 30,
   "metadata": {
    "_uuid": "082bfede543f62192c55146294cdb23b3b898c90"
   },
   "outputs": [
    {
     "name": "stderr",
     "output_type": "stream",
     "text": [
      "D:\\DiskD\\Eldaniz\\Anaconda3\\lib\\site-packages\\sklearn\\utils\\validation.py:590: DataConversionWarning: Data with input dtype int64 was converted to float64 by StandardScaler.\n",
      "  warnings.warn(msg, DataConversionWarning)\n",
      "D:\\DiskD\\Eldaniz\\Anaconda3\\lib\\site-packages\\sklearn\\utils\\validation.py:590: DataConversionWarning: Data with input dtype int64 was converted to float64 by StandardScaler.\n",
      "  warnings.warn(msg, DataConversionWarning)\n",
      "D:\\DiskD\\Eldaniz\\Anaconda3\\lib\\site-packages\\sklearn\\utils\\validation.py:590: DataConversionWarning: Data with input dtype int64 was converted to float64 by StandardScaler.\n",
      "  warnings.warn(msg, DataConversionWarning)\n"
     ]
    }
   ],
   "source": [
    "logit_pipe.fit(X_train, y_train)\n",
    "logit_test_pred = logit_pipe.predict_proba(X_test)[:, 1]\n",
    "\n",
    "pd.Series(logit_test_pred, \n",
    "          name='dep_delayed_15min').to_csv('logit_2feat.csv', \n",
    "                                           index_label='id', header=True)"
   ]
  },
  {
   "cell_type": "markdown",
   "metadata": {
    "_uuid": "efd64f65bd3ac9d7fd279513a8cf49e7f2cb7ac0"
   },
   "source": [
    "Now you have to beat **\"A10 benchmark\"** on Public LB. It's not challenging at all. Go for LightGBM, maybe some other models (or ensembling) as well. Include categorical features, do some simple feature engineering as well. Good luck!"
   ]
  },
  {
   "cell_type": "code",
   "execution_count": null,
   "metadata": {},
   "outputs": [],
   "source": []
  },
  {
   "cell_type": "code",
   "execution_count": null,
   "metadata": {},
   "outputs": [],
   "source": []
  },
  {
   "cell_type": "code",
   "execution_count": 31,
   "metadata": {},
   "outputs": [],
   "source": [
    "train_df['dep_delayed_15min'] = pd.Categorical(train_df['dep_delayed_15min'].map({'Y': 1, 'N': 0}))"
   ]
  },
  {
   "cell_type": "code",
   "execution_count": null,
   "metadata": {},
   "outputs": [],
   "source": []
  },
  {
   "cell_type": "code",
   "execution_count": 32,
   "metadata": {},
   "outputs": [],
   "source": [
    "# Special transformer to save output shape\n",
    "class ShapeSaver(BaseEstimator, TransformerMixin):\n",
    "    def transform(self, X):\n",
    "        self.shape = X.shape\n",
    "        return X\n",
    "\n",
    "    def fit(self, X, y=None, **fit_params):\n",
    "        return self"
   ]
  },
  {
   "cell_type": "code",
   "execution_count": 33,
   "metadata": {},
   "outputs": [],
   "source": [
    "def write_submission_file(prediction,\n",
    "                          filename,\n",
    "                          path_to_sample=os.path.join(\n",
    "                                  PATH,\n",
    "                                  'sample_submission.csv')):\n",
    "    pd.Series(prediction, \n",
    "              name='dep_delayed_15min').to_csv(filename, \n",
    "                                               index_label='id', \n",
    "                                               header=True)"
   ]
  },
  {
   "cell_type": "code",
   "execution_count": null,
   "metadata": {},
   "outputs": [],
   "source": []
  },
  {
   "cell_type": "code",
   "execution_count": null,
   "metadata": {},
   "outputs": [],
   "source": []
  },
  {
   "cell_type": "code",
   "execution_count": 34,
   "metadata": {},
   "outputs": [],
   "source": [
    "# --------------------------------------------------------------------------\n",
    "def src_to_pred(x):\n",
    "     return x\n",
    "\n",
    "# --------------------------------------------------------------------------\n",
    "def pred_to_src(x):\n",
    "    return x"
   ]
  },
  {
   "cell_type": "code",
   "execution_count": 35,
   "metadata": {},
   "outputs": [],
   "source": [
    "def train_lgm(Xtrain, ytrain, Xvalid, yvalid, Xtest):\n",
    "    experiment_name = 'train_lgm' + time.strftime(\"%d_%m_%Y_%H_%M_%S\")\n",
    "    experiment = {}\n",
    "    experiment['time'] = experiment_name\n",
    "\n",
    "    print(Xtrain.shape)\n",
    "\n",
    "    experiment['transformed_train_df_shape'] = Xtrain.shape\n",
    "    experiment['features'] = [\n",
    "            v[0] for v in transform_pipeline.steps[0][1].transformer_list]\n",
    "\n",
    "    lgb_x_train_part = lgb.Dataset(\n",
    "            Xtrain.astype(np.float32),\n",
    "            label=src_to_pred(ytrain))\n",
    "\n",
    "    lgb_x_valid = lgb.Dataset(\n",
    "            Xvalid.astype(np.float32),\n",
    "            label=src_to_pred(yvalid))\n",
    "\n",
    "    param = {'num_leaves': 31,\n",
    "             'num_trees': 500,\n",
    "             'objective': 'binary',\n",
    "#              'metric': 'l2'\n",
    "            }\n",
    "\n",
    "    param = {\n",
    "        'num_trees': 500,\n",
    "        'objective' :'binary',\n",
    "        'num_leaves' : 31,\n",
    "#         'max_depth': 50,\n",
    "        'reg_alpha': 0.701,\n",
    "#         'feature_fraction': 0.55,\n",
    "        }\n",
    "    \n",
    "    num_round = 100\n",
    "    bst_lgb = lgb.train(param,\n",
    "                        lgb_x_train_part,\n",
    "                        num_round,\n",
    "                        valid_sets = [lgb_x_valid],\n",
    "                        early_stopping_rounds=20,\n",
    "                        verbose_eval=0)\n",
    "\n",
    "    lgb_pred = pred_to_src(\n",
    "            bst_lgb.predict(\n",
    "                    Xvalid.astype(np.float32),\n",
    "                    num_iteration = bst_lgb.best_iteration))\n",
    "\n",
    "    lgb_valid_mae = roc_auc_score(yvalid, lgb_pred)\n",
    "    print('LGM valid roc_auc: {}'.format(lgb_valid_mae))\n",
    "\n",
    "    experiment['clf'] = 'lgm'\n",
    "    experiment['valid_roc_auc'] = lgb_valid_mae\n",
    "    experiment['np.expm1_valid_roc_auc'] = pred_to_src(lgb_valid_mae)\n",
    "\n",
    "    lgb_test_pred = pred_to_src(bst_lgb.predict(Xtest.astype(np.float32)))\n",
    "\n",
    "    return bst_lgb, lgb_pred, experiment, lgb_test_pred\n",
    "\n",
    "# --------------------------------------------------------------------------\n",
    "def full_lgm_fit(clf, Xtrain, ytrain, Xtest):\n",
    "    lgb_x_train_part = lgb.Dataset(\n",
    "            Xtrain.astype(np.float32),\n",
    "            label=src_to_pred(ytrain))\n",
    "\n",
    "    bst_lgb = lgb.train(clf.params,\n",
    "                        lgb_x_train_part\n",
    "                        )\n",
    "\n",
    "    lgb_pred = pred_to_src(\n",
    "            bst_lgb.predict(\n",
    "                    Xtest.astype(np.float32),\n",
    "                    num_iteration = bst_lgb.best_iteration))\n",
    "\n",
    "    return bst_lgb, lgb_pred\n",
    "\n",
    "# --------------------------------------------------------------------------\n",
    "def full_fit(clf, Xtrain, ytrain, Xtest):\n",
    "    clf.fit(Xtrain, src_to_pred(ytrain))\n",
    "    if hasattr(clf, 'predict_proba'):\n",
    "        clf_test_pred = pred_to_src(clf.predict_proba(Xtest))[:, 1]\n",
    "    else:\n",
    "        clf_test_pred = pred_to_src(clf.predict(Xtest))\n",
    "    return clf, clf_test_pred\n",
    "\n",
    "# --------------------------------------------------------------------------\n",
    "def train_clf(clf, Xtrain, ytrain, Xvalid, yvalid, Xtest, clf_name):\n",
    "    experiment_name = clf_name + time.strftime(\"%d_%m_%Y_%H_%M_%S\")\n",
    "    experiment = {}\n",
    "    experiment['time'] = experiment_name\n",
    "\n",
    "    print(Xtrain.shape)\n",
    "\n",
    "    experiment['transformed_train_df_shape'] = Xtrain.shape\n",
    "    experiment['features'] = [v[0] for v in transform_pipeline.steps[0][1].transformer_list]\n",
    "\n",
    "    clf.fit(Xtrain, src_to_pred(ytrain))\n",
    "    if hasattr(clf, 'predict_proba'):\n",
    "        clf_pred = pred_to_src(clf.predict_proba(Xvalid))[:, 1]\n",
    "    else:\n",
    "        clf_pred = pred_to_src(clf.predict(Xvalid))\n",
    "\n",
    "    valid_mae = roc_auc_score(yvalid, clf_pred)\n",
    "    print('{} valid mae: {}'.format(clf_name, valid_mae))\n",
    "\n",
    "    experiment['clf'] = clf_name\n",
    "    experiment['valid_roc_auc'] = valid_mae\n",
    "    experiment['np.expm1_valid_mae'] = pred_to_src(valid_mae)\n",
    "\n",
    "    if hasattr(clf, 'predict_proba'):\n",
    "        clf_test_pred = pred_to_src(clf.predict_proba(Xtest))[:, 1]\n",
    "    else:\n",
    "        clf_test_pred = pred_to_src(clf.predict(Xtest))\n",
    "\n",
    "    return clf, clf_pred, experiment, clf_test_pred"
   ]
  },
  {
   "cell_type": "code",
   "execution_count": 36,
   "metadata": {},
   "outputs": [],
   "source": [
    "\n",
    "# --------------------------------------------------------------------------\n",
    "def full_lgm_fit_cv(clf, Xtrain, ytrain, Xtest):\n",
    "\n",
    "    bst_lgb = clf.fit(Xtrain.astype(np.float32), src_to_pred(ytrain))\n",
    "\n",
    "    lgb_pred = pred_to_src(\n",
    "            bst_lgb.predict(\n",
    "                    Xtest.astype(np.float32),\n",
    "                    num_iteration = bst_lgb.best_iteration))\n",
    "\n",
    "    return bst_lgb, lgb_pred\n",
    "\n",
    "# --------------------------------------------------------------------------\n",
    "def train_clf_cv(clf, cv, Xtrain, ytrain, Xvalid, yvalid, Xtest, clf_name,\n",
    "                 grid_params):\n",
    "    experiment_name = clf_name + time.strftime(\"%d_%m_%Y_%H_%M_%S\")\n",
    "    experiment = {}\n",
    "    experiment['time'] = experiment_name\n",
    "\n",
    "    print(Xtrain.shape)\n",
    "\n",
    "    experiment['transformed_train_df_shape'] = Xtrain.shape\n",
    "    experiment['features'] = [v[0] for v in transform_pipeline.steps[0][1].transformer_list]\n",
    "\n",
    "    clf_grid = GridSearchCV(\n",
    "        estimator=clf,\n",
    "        param_grid=grid_params,\n",
    "        n_jobs=-1,\n",
    "        cv=cv,\n",
    "        verbose=10,\n",
    "        scoring='roc_auc')\n",
    "\n",
    "    clf_grid.fit(Xtrain, src_to_pred(ytrain))\n",
    "    if hasattr(clf_grid, 'predict_proba'):\n",
    "        clf_pred = pred_to_src(clf_grid.predict_proba(Xvalid))[:, 1]\n",
    "    else:\n",
    "        clf_pred = pred_to_src(clf_grid.predict(Xvalid))\n",
    "\n",
    "    valid_mae = roc_auc_score(yvalid, clf_pred)\n",
    "    print('{} valid roc_auc: {}'.format(clf_name, valid_mae))\n",
    "\n",
    "    experiment['clf'] = clf_name\n",
    "    experiment['valid_roc_auc'] = valid_mae\n",
    "    experiment['np.expm1_valid_mae'] = pred_to_src(valid_mae)\n",
    "\n",
    "    if hasattr(clf_grid, 'predict_proba'):\n",
    "        clf_test_pred = pred_to_src(clf_grid.predict_proba(Xtest))[:, 1]\n",
    "    else:\n",
    "        clf_test_pred = pred_to_src(clf_grid.predict(Xtest))\n",
    "\n",
    "    return clf_grid, clf_pred, experiment, clf_test_pred\n",
    "\n",
    "\n",
    "# --------------------------------------------------------------------------\n",
    "def train_ridge_cv(cv, Xtrain, ytrain, Xvalid, yvalid, Xtest):\n",
    "    clf = Ridge(random_state = 17, alpha=1.35)\n",
    "    grid_params = {\n",
    "            'alpha': [1e-10, 1e-2, 1, 1.35, 5],\n",
    "#            'solver' : ['svd', 'cholesky', 'lsqr', 'sparse_cg', 'sag', 'saga']\n",
    "            }\n",
    "    return train_clf_cv(clf, cv, Xtrain, ytrain, Xvalid, yvalid, Xtest,\n",
    "                        'train_ridge',\n",
    "                        grid_params=grid_params)\n",
    "\n",
    "# --------------------------------------------------------------------------\n",
    "def train_lgm_cv(cv, Xtrain, ytrain, Xvalid, yvalid, Xtest):\n",
    "    \n",
    "    params = {'boosting_type': 'gbdt',\n",
    "              'max_depth' : 100,\n",
    "              'objective': 'binary',\n",
    "              'nthread': -1,\n",
    "              'num_leaves': 31,\n",
    "              'learning_rate': 0.05,\n",
    "              'max_bin': 512,\n",
    "              'subsample_for_bin': 200,\n",
    "              'subsample': 1,\n",
    "              'subsample_freq': 1,\n",
    "              'colsample_bytree': 0.8,\n",
    "              'reg_alpha': 5,\n",
    "              'reg_lambda': 10,\n",
    "              'min_split_gain': 0.5,\n",
    "              'min_child_weight': 1,\n",
    "              'min_child_samples': 5,\n",
    "              'scale_pos_weight': 1,\n",
    "              'num_class' : 1,\n",
    "              'metric' : 'auc',\n",
    "              'eval_metric': 'auc'}\n",
    "\n",
    "#     params = {'num_leaves': 31,\n",
    "#              'num_trees': 500,\n",
    "#              'objective': 'binary',\n",
    "#             }\n",
    "    \n",
    "    # Create parameters to search\n",
    "    gridParams = {\n",
    "#         'learning_rate': [0.005],\n",
    "        'n_estimators': [500],\n",
    "        'num_leaves': [31],\n",
    "#         'boosting_type' : ['gbdt'],\n",
    "        'objective' : ['binary'],\n",
    "        'random_state' : [17],\n",
    "#         'colsample_bytree' : [0.65, 0.66],\n",
    "#         'subsample' : [0.7,0.75],\n",
    "#         'reg_alpha' : [1,1.2],\n",
    "#         'reg_lambda' : [1,1.2,1.4],\n",
    "        }\n",
    "\n",
    "    clf = lgb.LGBMClassifier(\n",
    "        random_state=17,\n",
    "        boosting_type= 'gbdt',\n",
    "        objective = 'binary',\n",
    "        n_jobs = -1, \n",
    "#         silent = True,\n",
    "         max_depth = params['max_depth'],\n",
    "#         max_bin = params['max_bin'],\n",
    "#         subsample_for_bin = params['subsample_for_bin'],\n",
    "#         subsample = params['subsample'],\n",
    "#         subsample_freq = params['subsample_freq'],\n",
    "#         min_split_gain = params['min_split_gain'],\n",
    "#         min_child_weight = params['min_child_weight'],\n",
    "#         min_child_samples = params['min_child_samples'],\n",
    "#         scale_pos_weight = params['scale_pos_weight']\n",
    "    )\n",
    "    \n",
    "    return train_clf_cv(clf, cv, Xtrain, ytrain, Xvalid, yvalid, Xtest,\n",
    "                        'train_lgm',\n",
    "                        grid_params=gridParams)\n"
   ]
  },
  {
   "cell_type": "code",
   "execution_count": null,
   "metadata": {},
   "outputs": [],
   "source": []
  },
  {
   "cell_type": "code",
   "execution_count": 37,
   "metadata": {},
   "outputs": [],
   "source": [
    "def extract_month(X):\n",
    "    return X[['Month']]\n",
    "\n",
    "def extract_distance(X):\n",
    "    return X[['Distance']]\n",
    "\n",
    "def extract_deptime(X):\n",
    "    return X[['DepTime']]\n",
    "\n",
    "def extract_deptime_hour(X):\n",
    "    hour = (X['DepTime']/100).astype(int)\n",
    "    return pd.DataFrame(hour)\n",
    "\n",
    "def extract_origin(X):\n",
    "    return origin_encoder.transform(X[['Origin']])\n",
    "\n",
    "def extract_dest(X):\n",
    "    return dest_encoder.transform(X[['Dest']])\n",
    "\n",
    "def extract_carrier(X):\n",
    "    return uniq_carrier_encoder.transform(X[['UniqueCarrier']])\n",
    "\n",
    "def is_in_top_10_delay_carrier(X):\n",
    "    is_in_top_delayed = X['UniqueCarrier'].isin(top_10_delayed)\n",
    "    return pd.DataFrame(is_in_top_delayed)\n",
    "\n",
    "def extract_day_of_month(X):\n",
    "    return X[['DayofMonth']]\n",
    "\n",
    "def extract_day_of_week(X):\n",
    "    return X[['DayOfWeek']]\n",
    "\n",
    "def extract_deptime_night(X):\n",
    "    hour = (X['DepTime']/100).astype(int)\n",
    "    return pd.DataFrame((0 <= hour) & (hour < 8))\n",
    "\n",
    "def extract_deptime_night5(X):\n",
    "    hour = (X['DepTime']/100).astype(int)\n",
    "    return pd.DataFrame((0 <= hour) & (hour < 5))\n",
    "\n",
    "\n",
    "def extract_deptime_morning(X):\n",
    "    hour = (X['DepTime']/100).astype(int)\n",
    "    return pd.DataFrame((8 <= hour) & (hour < 12))\n",
    "\n",
    "def extract_deptime_day(X):\n",
    "    hour = (X['DepTime']/100).astype(int)\n",
    "    return pd.DataFrame((12 <= hour) & (hour < 18))\n",
    "\n",
    "def extract_deptime_eve(X):\n",
    "    hour = (X['DepTime']/100).astype(int)\n",
    "    return pd.DataFrame((18 <= hour) & (hour <= 24))\n",
    "\n",
    "def extract_deptime_hour(X):\n",
    "    hour = (X['DepTime']/100).astype(int)\n",
    "    return pd.DataFrame(hour)\n",
    "\n",
    "def extract_long_distance(X):\n",
    "    distance = X['Distance'].astype(int)\n",
    "    return pd.DataFrame(distance > 1000)\n",
    "\n",
    "def extract_short_distance(X):\n",
    "    distance = X['Distance'].astype(int)\n",
    "    return pd.DataFrame(distance < 1000)\n",
    "\n",
    "def extract_long_distance(X):\n",
    "    distance = X['Distance'].astype(int)\n",
    "    return pd.DataFrame(distance > 2500)\n",
    "\n",
    "def extract_short_distance_deptime_lb(X):\n",
    "    distance = X['Distance'].astype(int)\n",
    "    hour = (X['DepTime']/100).astype(int)\n",
    "    return pd.DataFrame( (distance < 1000) &\n",
    "                       (hour >= 0) & (hour < 3.5))\n",
    "\n",
    "def extract_distance_deptime_rt(X):\n",
    "    distance = X['Distance'].astype(int)\n",
    "    hour = (X['DepTime']/100).astype(int)\n",
    "    return pd.DataFrame( (distance > 2600) &\n",
    "                       (hour >= 7.5))"
   ]
  },
  {
   "cell_type": "code",
   "execution_count": 38,
   "metadata": {},
   "outputs": [],
   "source": [
    "distance =  Pipeline([\n",
    "    ('extract', FunctionTransformer(extract_distance, validate=False)),\n",
    "    ('scale', StandardScaler()),\n",
    "    ])\n",
    "\n",
    "deptime = Pipeline([\n",
    "    ('extract', FunctionTransformer(extract_deptime, validate=False)),\n",
    "    ('poly', PolynomialFeatures(degree=3)),\n",
    "    ('scale', StandardScaler()),\n",
    "    ])\n",
    "\n",
    "deptime_hour = Pipeline([\n",
    "    ('extract', FunctionTransformer(extract_deptime_hour, validate=False)),\n",
    "    ('ohe', OneHotEncoder()),\n",
    "#     ('scale', StandardScaler()),\n",
    "    ])\n",
    "\n",
    "origin = Pipeline([\n",
    "    ('extract', FunctionTransformer(extract_origin, validate=False)),\n",
    "    ])\n",
    "\n",
    "dest = Pipeline([\n",
    "    ('extract', FunctionTransformer(extract_dest, validate=False)),\n",
    "    ])\n",
    "\n",
    "carrier = Pipeline([\n",
    "    ('extract', FunctionTransformer(extract_carrier, validate=False)),\n",
    "    ])\n",
    "\n",
    "day_of_month = Pipeline([\n",
    "    ('extract', FunctionTransformer(extract_day_of_month, validate=False)),\n",
    "    ('poly', PolynomialFeatures(degree=2)),\n",
    "    ('scale', StandardScaler()),\n",
    "    ])\n",
    "\n",
    "day_of_week = Pipeline([\n",
    "    ('extract', FunctionTransformer(extract_day_of_week, validate=False)),\n",
    "    ('scale', StandardScaler()),\n",
    "    ])\n",
    "\n",
    "month = Pipeline([\n",
    "    ('extract', FunctionTransformer(extract_month, validate=False)),\n",
    "    ('scale', StandardScaler()),\n",
    "    ])\n",
    "\n",
    "deptime_night = Pipeline([\n",
    "    ('extract', FunctionTransformer(extract_deptime_night, validate=False)),\n",
    "    ])\n",
    "\n",
    "deptime_night5 = Pipeline([\n",
    "    ('extract', FunctionTransformer(extract_deptime_night5, validate=False)),\n",
    "    ])\n",
    "\n",
    "\n",
    "deptime_eve = Pipeline([\n",
    "    ('extract', FunctionTransformer(extract_deptime_eve, validate=False)),\n",
    "    ])\n",
    "\n",
    "deptime_morning = Pipeline([\n",
    "    ('extract', FunctionTransformer(extract_deptime_morning, validate=False)),\n",
    "    ])\n",
    "\n",
    "deptime_day = Pipeline([\n",
    "    ('extract', FunctionTransformer(extract_deptime_day, validate=False)),\n",
    "    ])\n",
    "\n",
    "long_distance = Pipeline([\n",
    "    ('extract', FunctionTransformer(extract_long_distance, validate=False)),\n",
    "    ])\n",
    "\n",
    "\n",
    "istop10_delay_carrier = Pipeline([\n",
    "    ('extract', FunctionTransformer(is_in_top_10_delay_carrier, validate=False)),\n",
    "    ])\n",
    "\n",
    "\n",
    "short_distance =  Pipeline([\n",
    "    ('extract', FunctionTransformer(extract_short_distance, validate=False)),\n",
    "    ('scale', StandardScaler()),\n",
    "    ])\n",
    "\n",
    "distance_deptime_lb =  Pipeline([\n",
    "    ('extract', FunctionTransformer(extract_short_distance_deptime_lb, validate=False)),\n",
    "    ('scale', StandardScaler()),\n",
    "    ])\n",
    "\n",
    "distance_deptime_rt =  Pipeline([\n",
    "    ('extract', FunctionTransformer(extract_distance_deptime_rt, validate=False)),\n",
    "    ('scale', StandardScaler()),\n",
    "    ])\n",
    "\n",
    "\n",
    "feats = FeatureUnion([('distance', distance), \n",
    "                      ('deptime', deptime),\n",
    "                      ('deptime_hour', deptime_hour),\n",
    "                      ('origin', origin),\n",
    "                      ('dest', dest),\n",
    "                      ('carrier', carrier),\n",
    "                      ('day_of_month', day_of_month),\n",
    "                      ('day_of_week', day_of_week),\n",
    "                      ('month', month),\n",
    "                      ('deptime_night', deptime_night),\n",
    "#                       ('deptime_night5', deptime_night5),\n",
    "#                       ('short_distance', short_distance),\n",
    "#                       ('long_distance', long_distance),                      \n",
    "#                       ('istop10_delay_carrier', istop10_delay_carrier),\n",
    "                      \n",
    "\n",
    "                      ('deptime_day', deptime_day),\n",
    "                      ('deptime_eve', deptime_eve),                      \n",
    "                      ('deptime_morning', deptime_morning),\n",
    "                      \n",
    "#                       ('distance_deptime_lb', distance_deptime_lb),\n",
    "#                       ('distance_deptime_rt', distance_deptime_rt),\n",
    "                     ])\n",
    "\n",
    "transform_pipeline = Pipeline([('feats', feats)])"
   ]
  },
  {
   "cell_type": "code",
   "execution_count": null,
   "metadata": {},
   "outputs": [],
   "source": []
  },
  {
   "cell_type": "code",
   "execution_count": 39,
   "metadata": {},
   "outputs": [
    {
     "name": "stderr",
     "output_type": "stream",
     "text": [
      "D:\\DiskD\\Eldaniz\\Anaconda3\\lib\\site-packages\\sklearn\\preprocessing\\data.py:617: DataConversionWarning: Data with input dtype int64 were all converted to float64 by StandardScaler.\n",
      "  return self.partial_fit(X, y)\n",
      "D:\\DiskD\\Eldaniz\\Anaconda3\\lib\\site-packages\\sklearn\\base.py:462: DataConversionWarning: Data with input dtype int64 were all converted to float64 by StandardScaler.\n",
      "  return self.fit(X, **fit_params).transform(X)\n",
      "D:\\DiskD\\Eldaniz\\Anaconda3\\lib\\site-packages\\sklearn\\preprocessing\\data.py:617: DataConversionWarning: Data with input dtype int32 were all converted to float64 by StandardScaler.\n",
      "  return self.partial_fit(X, y)\n",
      "D:\\DiskD\\Eldaniz\\Anaconda3\\lib\\site-packages\\sklearn\\base.py:462: DataConversionWarning: Data with input dtype int32 were all converted to float64 by StandardScaler.\n",
      "  return self.fit(X, **fit_params).transform(X)\n",
      "D:\\DiskD\\Eldaniz\\Anaconda3\\lib\\site-packages\\sklearn\\preprocessing\\data.py:617: DataConversionWarning: Data with input dtype int32 were all converted to float64 by StandardScaler.\n",
      "  return self.partial_fit(X, y)\n",
      "D:\\DiskD\\Eldaniz\\Anaconda3\\lib\\site-packages\\sklearn\\base.py:462: DataConversionWarning: Data with input dtype int32 were all converted to float64 by StandardScaler.\n",
      "  return self.fit(X, **fit_params).transform(X)\n",
      "D:\\DiskD\\Eldaniz\\Anaconda3\\lib\\site-packages\\sklearn\\pipeline.py:451: DataConversionWarning: Data with input dtype int64 were all converted to float64 by StandardScaler.\n",
      "  Xt = transform.transform(Xt)\n",
      "D:\\DiskD\\Eldaniz\\Anaconda3\\lib\\site-packages\\sklearn\\pipeline.py:451: DataConversionWarning: Data with input dtype int32 were all converted to float64 by StandardScaler.\n",
      "  Xt = transform.transform(Xt)\n",
      "D:\\DiskD\\Eldaniz\\Anaconda3\\lib\\site-packages\\sklearn\\pipeline.py:451: DataConversionWarning: Data with input dtype int32 were all converted to float64 by StandardScaler.\n",
      "  Xt = transform.transform(Xt)\n"
     ]
    },
    {
     "name": "stdout",
     "output_type": "stream",
     "text": [
      "(100000, 675) (100000, 675)\n"
     ]
    }
   ],
   "source": [
    "experiment = {}\n",
    "\n",
    "transformed_train_df = transform_pipeline.fit_transform(train_df)\n",
    "transformed_test_df = transform_pipeline.transform(test_df)\n",
    "\n",
    "X_train_new = transformed_train_df\n",
    "y_train_new = train_df['dep_delayed_15min']\n",
    "X_test_new = transformed_test_df\n",
    "\n",
    "print(transformed_train_df.shape, transformed_test_df.shape)\n",
    "\n",
    "experiment['transformed_train_df_shape'] = transformed_train_df.shape\n",
    "experiment['transformed_test_df_shape'] = transformed_test_df.shape\n",
    "experiment['features'] = [v[0] for v in transform_pipeline.steps[0][1].transformer_list]\n",
    "\n",
    "experiment_name = time.strftime(\"%d_%m_%Y_%H_%M_%S\")\n",
    "experiment['time'] = experiment_name\n",
    "experiment['submission_file'] = experiment['time'] + '.csv'\n",
    "\n",
    "train_part_size = int(0.7 * y_train_new.shape[0])  # !!!!!!!!!!!!!!!!!!!!!!!\n",
    "X_train_part = X_train_new[:train_part_size, :]\n",
    "y_train_part = y_train_new[:train_part_size]\n",
    "X_valid = X_train_new[train_part_size:, :]\n",
    "y_valid = y_train_new[train_part_size:]"
   ]
  },
  {
   "cell_type": "code",
   "execution_count": 40,
   "metadata": {},
   "outputs": [
    {
     "data": {
      "text/plain": [
       "((100000, 9), (70000, 675), (70000,))"
      ]
     },
     "execution_count": 40,
     "metadata": {},
     "output_type": "execute_result"
    }
   ],
   "source": [
    "train_df.shape, X_train_part.shape, y_train_part.shape"
   ]
  },
  {
   "cell_type": "code",
   "execution_count": 41,
   "metadata": {},
   "outputs": [
    {
     "name": "stdout",
     "output_type": "stream",
     "text": [
      "(70000, 675)\n"
     ]
    },
    {
     "name": "stderr",
     "output_type": "stream",
     "text": [
      "D:\\DiskD\\Eldaniz\\Anaconda3\\lib\\site-packages\\lightgbm\\engine.py:113: UserWarning: Found `num_trees` in params. Will use it instead of argument\n",
      "  warnings.warn(\"Found `{}` in params. Will use it instead of argument\".format(alias))\n"
     ]
    },
    {
     "name": "stdout",
     "output_type": "stream",
     "text": [
      "LGM valid roc_auc: 0.7510045050341858\n",
      "LGM valid roc_auc: 0.7510045050341858\n",
      "Wall time: 3.54 s\n"
     ]
    }
   ],
   "source": [
    "%%time\n",
    "lgm, lgb_pred, lgm_experiment, lgm_test_pred = train_lgm(\n",
    "        X_train_part,\n",
    "        y_train_part,\n",
    "        X_valid,\n",
    "        y_valid,\n",
    "        X_test_new)\n",
    "# lgb_pred1 = pred_to_src(lgm.predict(X_train_part))\n",
    "print('LGM valid roc_auc: {}'.format(lgm_experiment['valid_roc_auc']))"
   ]
  },
  {
   "cell_type": "code",
   "execution_count": 42,
   "metadata": {},
   "outputs": [
    {
     "data": {
      "text/plain": [
       "0.7510045050341858"
      ]
     },
     "execution_count": 42,
     "metadata": {},
     "output_type": "execute_result"
    }
   ],
   "source": [
    "roc_auc_score(y_valid, lgb_pred)"
   ]
  },
  {
   "cell_type": "code",
   "execution_count": 43,
   "metadata": {},
   "outputs": [],
   "source": [
    "# 0.7496706932290444"
   ]
  },
  {
   "cell_type": "code",
   "execution_count": 44,
   "metadata": {},
   "outputs": [
    {
     "name": "stdout",
     "output_type": "stream",
     "text": [
      "Wall time: 987 ms\n"
     ]
    }
   ],
   "source": [
    "%%time\n",
    "lgm_full, lgm_full_pred = full_lgm_fit(lgm, X_train_new, y_train_new, X_test_new)\n",
    "\n",
    "mix_full_pred = lgm_full_pred\n",
    "\n",
    "# # ==> predict\n",
    "# write_submission_file(prediction=lgm_full_pred,\n",
    "#                       filename=experiment['submission_file'])\n",
    "# # <== predict"
   ]
  },
  {
   "cell_type": "code",
   "execution_count": null,
   "metadata": {},
   "outputs": [],
   "source": []
  },
  {
   "cell_type": "code",
   "execution_count": null,
   "metadata": {},
   "outputs": [],
   "source": []
  },
  {
   "cell_type": "code",
   "execution_count": 90,
   "metadata": {},
   "outputs": [],
   "source": [
    "# ------------------------------------- XGBoost ------------------------------->"
   ]
  },
  {
   "cell_type": "code",
   "execution_count": 45,
   "metadata": {},
   "outputs": [],
   "source": [
    "from xgboost.sklearn import XGBClassifier"
   ]
  },
  {
   "cell_type": "code",
   "execution_count": 50,
   "metadata": {},
   "outputs": [
    {
     "name": "stdout",
     "output_type": "stream",
     "text": [
      "(70000, 675)\n",
      "xgb valid mae: 0.75559122113884\n",
      "XGB valid roc_auc: 0.75559122113884\n",
      "Wall time: 16.4 s\n"
     ]
    }
   ],
   "source": [
    "%%time\n",
    "\n",
    "experiment_name = 'xgb' + time.strftime(\"%d_%m_%Y_%H_%M_%S\")\n",
    "experiment['time'] = experiment_name\n",
    "experiment['submission_file'] = experiment['time'] + '.csv'\n",
    "\n",
    "xgb = XGBClassifier(\n",
    "    colsample_bylevel=0.7,\n",
    "    subsample=0.8,\n",
    "    colsample_bytree=0.8,\n",
    "    max_depth=10,\n",
    "    learning_rate=0.05,\n",
    "    n_estimators=500,\n",
    "    random_state=17,\n",
    "    verbose=100,\n",
    "    n_jobs=-1)\n",
    "\n",
    "xgb, xgb_pred, xgb_experiment, xgb_test_pred = train_clf(\n",
    "    xgb,\n",
    "    X_train_part,\n",
    "    y_train_part,\n",
    "    X_valid,\n",
    "    y_valid,\n",
    "    X_test_new,\n",
    "    'xgb')\n",
    "print('XGB valid roc_auc: {}'.format(xgb_experiment['valid_roc_auc']))"
   ]
  },
  {
   "cell_type": "code",
   "execution_count": 51,
   "metadata": {},
   "outputs": [
    {
     "data": {
      "text/plain": [
       "XGBClassifier(base_score=0.5, booster='gbtree', colsample_bylevel=0.7,\n",
       "       colsample_bytree=0.8, gamma=0, learning_rate=0.05, max_delta_step=0,\n",
       "       max_depth=10, min_child_weight=1, missing=None, n_estimators=500,\n",
       "       n_jobs=-1, nthread=None, objective='binary:logistic',\n",
       "       random_state=17, reg_alpha=0, reg_lambda=1, scale_pos_weight=1,\n",
       "       seed=None, silent=True, subsample=0.8, verbose=100)"
      ]
     },
     "execution_count": 51,
     "metadata": {},
     "output_type": "execute_result"
    }
   ],
   "source": [
    "xgb"
   ]
  },
  {
   "cell_type": "code",
   "execution_count": 52,
   "metadata": {},
   "outputs": [
    {
     "data": {
      "text/plain": [
       "0.75559122113884"
      ]
     },
     "execution_count": 52,
     "metadata": {},
     "output_type": "execute_result"
    }
   ],
   "source": [
    "roc_auc_score(y_valid.values, xgb_pred)  #1000 => 0.73933496262452336"
   ]
  },
  {
   "cell_type": "code",
   "execution_count": null,
   "metadata": {},
   "outputs": [],
   "source": []
  },
  {
   "cell_type": "code",
   "execution_count": 134,
   "metadata": {},
   "outputs": [
    {
     "name": "stdout",
     "output_type": "stream",
     "text": [
      "Wall time: 29.8 s\n"
     ]
    }
   ],
   "source": [
    "%%time\n",
    "xgb_full, xgb_full_pred = full_fit(xgb, X_train_new, y_train_new, X_test_new)\n",
    "\n",
    "mix_full_pred = xgb_full_pred\n",
    "\n",
    "# ==> predict\n",
    "write_submission_file(prediction=xgb_full_pred,\n",
    "                      filename=experiment['submission_file'])\n",
    "# <== predict"
   ]
  },
  {
   "cell_type": "code",
   "execution_count": 135,
   "metadata": {},
   "outputs": [
    {
     "data": {
      "text/plain": [
       "{'time': 'xgb06_12_2018_14_14_37',\n",
       " 'transformed_train_df_shape': (70000, 675),\n",
       " 'features': ['distance',\n",
       "  'deptime',\n",
       "  'deptime_hour',\n",
       "  'origin',\n",
       "  'dest',\n",
       "  'carrier',\n",
       "  'day_of_month',\n",
       "  'day_of_week',\n",
       "  'month',\n",
       "  'deptime_night',\n",
       "  'deptime_day',\n",
       "  'deptime_eve',\n",
       "  'deptime_morning'],\n",
       " 'clf': 'xgb',\n",
       " 'valid_roc_auc': 0.7557758582150239,\n",
       " 'np.expm1_valid_mae': 0.7557758582150239}"
      ]
     },
     "execution_count": 135,
     "metadata": {},
     "output_type": "execute_result"
    }
   ],
   "source": [
    "xgb_experiment"
   ]
  },
  {
   "cell_type": "code",
   "execution_count": null,
   "metadata": {},
   "outputs": [],
   "source": [
    "# <------------------------------------- XGBoost -------------------------------"
   ]
  },
  {
   "cell_type": "code",
   "execution_count": null,
   "metadata": {},
   "outputs": [],
   "source": [
    "# 0.75559122113884003 ==> 0.73896\n",
    "# 0.7557758582150239 ==> 0.73811"
   ]
  },
  {
   "cell_type": "code",
   "execution_count": null,
   "metadata": {},
   "outputs": [],
   "source": []
  },
  {
   "cell_type": "code",
   "execution_count": null,
   "metadata": {},
   "outputs": [],
   "source": []
  },
  {
   "cell_type": "code",
   "execution_count": null,
   "metadata": {},
   "outputs": [],
   "source": []
  },
  {
   "cell_type": "code",
   "execution_count": 62,
   "metadata": {},
   "outputs": [
    {
     "name": "stdout",
     "output_type": "stream",
     "text": [
      "LGM valid roc_auc: 0.7510045050341858\n",
      "XGB valid roc_auc: 0.75559122113884\n",
      "Mix valid roc_auc: 0.7608950186231762\n"
     ]
    },
    {
     "data": {
      "image/png": "[encoded data removed]",
      "text/plain": [
       "<Figure size 432x288 with 1 Axes>"
      ]
     },
     "metadata": {
      "needs_background": "light"
     },
     "output_type": "display_data"
    }
   ],
   "source": [
    "coef_1 = 0.2\n",
    "coef_2 = 0.8\n",
    "\n",
    "# mix_pred = coef_1 * lgb_pred + coef_2 * xgb_pred\n",
    "mix_pred = coef_1 * rf_pred + coef_2 * xgb_pred\n",
    "\n",
    "\n",
    "print('LGM valid roc_auc: {}'.format(lgm_experiment['valid_roc_auc']))\n",
    "print('XGB valid roc_auc: {}'.format(xgb_experiment['valid_roc_auc']))\n",
    "print('Mix valid roc_auc: {}'.format(roc_auc_score(y_valid, mix_pred)))\n",
    "\n",
    "# xgb_pred1 = xgb.predict(X_valid)\n",
    "plt.hist(y_train, bins=30, alpha=.5, color='red', label='true', range=(0,5));\n",
    "#plt.hist(np.log2(1+y_valid), bins=30, alpha=.5, color='gray', label='true', range=(0,5));\n",
    "plt.hist(xgb_pred, bins=30, alpha=.5, color='green', label='XGB', range=(0,5));\n",
    "# plt.hist(mix_pred, bins=30, alpha=.5, color='maroon', label='mixed', range=(0,5));\n",
    "plt.legend();"
   ]
  },
  {
   "cell_type": "code",
   "execution_count": null,
   "metadata": {},
   "outputs": [],
   "source": []
  },
  {
   "cell_type": "code",
   "execution_count": null,
   "metadata": {},
   "outputs": [],
   "source": []
  },
  {
   "cell_type": "code",
   "execution_count": null,
   "metadata": {},
   "outputs": [],
   "source": []
  },
  {
   "cell_type": "code",
   "execution_count": null,
   "metadata": {},
   "outputs": [],
   "source": []
  },
  {
   "cell_type": "code",
   "execution_count": null,
   "metadata": {},
   "outputs": [],
   "source": []
  },
  {
   "cell_type": "code",
   "execution_count": null,
   "metadata": {},
   "outputs": [],
   "source": []
  },
  {
   "cell_type": "code",
   "execution_count": null,
   "metadata": {},
   "outputs": [],
   "source": []
  },
  {
   "cell_type": "code",
   "execution_count": 41,
   "metadata": {},
   "outputs": [],
   "source": [
    "# ------------------------------------- RandomForestClassifier ------------------------------->"
   ]
  },
  {
   "cell_type": "code",
   "execution_count": 54,
   "metadata": {},
   "outputs": [],
   "source": [
    "from sklearn.ensemble import RandomForestClassifier"
   ]
  },
  {
   "cell_type": "code",
   "execution_count": 55,
   "metadata": {},
   "outputs": [
    {
     "name": "stdout",
     "output_type": "stream",
     "text": [
      "(70000, 675)\n",
      "rf_ada valid mae: 0.758554571427063\n",
      "RF valid roc_auc: 0.758554571427063\n",
      "Wall time: 3min 6s\n"
     ]
    }
   ],
   "source": [
    "%%time\n",
    "rf = RandomForestClassifier(n_estimators=500,\n",
    "    n_jobs=-1,\n",
    "    random_state=17\n",
    "    )\n",
    "\n",
    "rf, rf_pred, rf_experiment, rf_test_pred = train_clf(\n",
    "    rf,\n",
    "    X_train_part,\n",
    "    y_train_part,\n",
    "    X_valid,\n",
    "    y_valid,\n",
    "    X_test_new,\n",
    "    'rf_ada')\n",
    "print('RF valid roc_auc: {}'.format(rf_experiment['valid_roc_auc']))"
   ]
  },
  {
   "cell_type": "code",
   "execution_count": 56,
   "metadata": {},
   "outputs": [
    {
     "data": {
      "text/plain": [
       "0.758554571427063"
      ]
     },
     "execution_count": 56,
     "metadata": {},
     "output_type": "execute_result"
    }
   ],
   "source": [
    "roc_auc_score(y_valid, rf_pred)"
   ]
  },
  {
   "cell_type": "code",
   "execution_count": null,
   "metadata": {},
   "outputs": [],
   "source": []
  },
  {
   "cell_type": "code",
   "execution_count": 114,
   "metadata": {},
   "outputs": [
    {
     "name": "stdout",
     "output_type": "stream",
     "text": [
      "Wall time: 53min 54s\n"
     ]
    }
   ],
   "source": [
    "%%time\n",
    "rf, rf_full_pred = full_fit(rf, X_train_new, y_train_new, X_test_new)\n",
    "\n",
    "mix_full_pred = rf_full_pred\n",
    "\n",
    "# ==> predict\n",
    "write_submission_file(prediction=rf_full_pred,\n",
    "                      filename=experiment['submission_file'])\n",
    "# <== predict"
   ]
  },
  {
   "cell_type": "code",
   "execution_count": 115,
   "metadata": {},
   "outputs": [
    {
     "data": {
      "text/plain": [
       "{'time': 'rf_ada05_12_2018_18_16_59',\n",
       " 'transformed_train_df_shape': (70000, 675),\n",
       " 'features': ['distance',\n",
       "  'deptime',\n",
       "  'deptime_hour',\n",
       "  'origin',\n",
       "  'dest',\n",
       "  'carrier',\n",
       "  'day_of_month',\n",
       "  'day_of_week',\n",
       "  'month',\n",
       "  'deptime_night',\n",
       "  'deptime_day',\n",
       "  'deptime_eve',\n",
       "  'deptime_morning'],\n",
       " 'clf': 'rf_ada',\n",
       " 'valid_roc_auc': 0.76075162602003932,\n",
       " 'np.expm1_valid_mae': 0.76075162602003932}"
      ]
     },
     "execution_count": 115,
     "metadata": {},
     "output_type": "execute_result"
    }
   ],
   "source": [
    "rf_experiment"
   ]
  },
  {
   "cell_type": "code",
   "execution_count": null,
   "metadata": {},
   "outputs": [],
   "source": []
  },
  {
   "cell_type": "code",
   "execution_count": null,
   "metadata": {},
   "outputs": [],
   "source": []
  },
  {
   "cell_type": "code",
   "execution_count": null,
   "metadata": {},
   "outputs": [],
   "source": []
  },
  {
   "cell_type": "code",
   "execution_count": null,
   "metadata": {},
   "outputs": [],
   "source": []
  },
  {
   "cell_type": "code",
   "execution_count": 45,
   "metadata": {},
   "outputs": [],
   "source": [
    "# <------------------------------------- RandomForestClassifier -------------------------------"
   ]
  },
  {
   "cell_type": "code",
   "execution_count": 114,
   "metadata": {},
   "outputs": [
    {
     "name": "stdout",
     "output_type": "stream",
     "text": [
      "Wall time: 53min 54s\n"
     ]
    }
   ],
   "source": [
    "%%time\n",
    "rf, rf_full_pred = full_fit(rf, X_train_new, y_train_new, X_test_new)\n",
    "\n",
    "mix_full_pred = rf_full_pred\n",
    "\n",
    "# ==> predict\n",
    "write_submission_file(prediction=rf_full_pred,\n",
    "                      filename=experiment['submission_file'])\n",
    "# <== predict"
   ]
  },
  {
   "cell_type": "code",
   "execution_count": 115,
   "metadata": {},
   "outputs": [
    {
     "data": {
      "text/plain": [
       "{'time': 'rf_ada05_12_2018_18_16_59',\n",
       " 'transformed_train_df_shape': (70000, 675),\n",
       " 'features': ['distance',\n",
       "  'deptime',\n",
       "  'deptime_hour',\n",
       "  'origin',\n",
       "  'dest',\n",
       "  'carrier',\n",
       "  'day_of_month',\n",
       "  'day_of_week',\n",
       "  'month',\n",
       "  'deptime_night',\n",
       "  'deptime_day',\n",
       "  'deptime_eve',\n",
       "  'deptime_morning'],\n",
       " 'clf': 'rf_ada',\n",
       " 'valid_roc_auc': 0.76075162602003932,\n",
       " 'np.expm1_valid_mae': 0.76075162602003932}"
      ]
     },
     "execution_count": 115,
     "metadata": {},
     "output_type": "execute_result"
    }
   ],
   "source": [
    "rf_experiment"
   ]
  },
  {
   "cell_type": "code",
   "execution_count": null,
   "metadata": {},
   "outputs": [],
   "source": [
    "# 0.76075162602003932 ==> 0.73570"
   ]
  },
  {
   "cell_type": "code",
   "execution_count": null,
   "metadata": {},
   "outputs": [],
   "source": []
  },
  {
   "cell_type": "code",
   "execution_count": null,
   "metadata": {},
   "outputs": [],
   "source": []
  },
  {
   "cell_type": "code",
   "execution_count": null,
   "metadata": {},
   "outputs": [],
   "source": []
  },
  {
   "cell_type": "code",
   "execution_count": null,
   "metadata": {},
   "outputs": [],
   "source": []
  },
  {
   "cell_type": "code",
   "execution_count": null,
   "metadata": {},
   "outputs": [],
   "source": [
    "# ------------------------------------- RandomForestClassifier CV ------------------------------->"
   ]
  },
  {
   "cell_type": "code",
   "execution_count": 49,
   "metadata": {},
   "outputs": [
    {
     "name": "stdout",
     "output_type": "stream",
     "text": [
      "(69988, 673)\n",
      "Fitting 3 folds for each of 4 candidates, totalling 12 fits\n"
     ]
    },
    {
     "name": "stderr",
     "output_type": "stream",
     "text": [
      "[Parallel(n_jobs=-1)]: Using backend LokyBackend with 4 concurrent workers.\n",
      "[Parallel(n_jobs=-1)]: Done   5 tasks      | elapsed:  4.7min\n",
      "[Parallel(n_jobs=-1)]: Done   7 out of  12 | elapsed:  6.7min remaining:  4.8min\n",
      "[Parallel(n_jobs=-1)]: Done   9 out of  12 | elapsed:  8.1min remaining:  2.7min\n",
      "[Parallel(n_jobs=-1)]: Done  12 out of  12 | elapsed:  8.6min finished\n"
     ]
    },
    {
     "name": "stdout",
     "output_type": "stream",
     "text": [
      "rf_ada valid roc_auc: 0.7636624808346899\n",
      "RF valid roc_auc: 0.7636624808346899\n",
      "Wall time: 10min 36s\n"
     ]
    }
   ],
   "source": [
    "%%time\n",
    "rf = RandomForestClassifier(n_estimators=200,\n",
    "    n_jobs=-1,\n",
    "    random_state=17\n",
    "    )\n",
    "\n",
    "param_grid = {\n",
    "    \"max_depth\": [None],\n",
    "    \"max_features\": [10, 15],\n",
    "    \"min_samples_split\": [2, 5],\n",
    "    \"bootstrap\": [False],\n",
    "    \"criterion\": [\"entropy\"]\n",
    "    }\n",
    "\n",
    "cv=3\n",
    "rfcv, rfcv_pred, rfcv_experiment, rfcv_test_pred = train_clf_cv(\n",
    "    rf,\n",
    "    cv,\n",
    "    X_train_part,\n",
    "    y_train_part,\n",
    "    X_valid,\n",
    "    y_valid,\n",
    "    X_test_new,\n",
    "    'rf_ada',\n",
    "    param_grid)\n",
    "print('RF valid roc_auc: {}'.format(rfcv_experiment['valid_roc_auc']))\n",
    "rfcv.best_params_"
   ]
  },
  {
   "cell_type": "code",
   "execution_count": 50,
   "metadata": {},
   "outputs": [
    {
     "data": {
      "text/plain": [
       "{'bootstrap': False,\n",
       " 'criterion': 'entropy',\n",
       " 'max_depth': None,\n",
       " 'max_features': 10,\n",
       " 'min_samples_split': 2}"
      ]
     },
     "execution_count": 50,
     "metadata": {},
     "output_type": "execute_result"
    }
   ],
   "source": [
    "rfcv.best_params_"
   ]
  },
  {
   "cell_type": "code",
   "execution_count": 51,
   "metadata": {},
   "outputs": [
    {
     "data": {
      "text/plain": [
       "0.76366248083468991"
      ]
     },
     "execution_count": 51,
     "metadata": {},
     "output_type": "execute_result"
    }
   ],
   "source": [
    "roc_auc_score(y_valid, rfcv_pred)"
   ]
  },
  {
   "cell_type": "code",
   "execution_count": null,
   "metadata": {},
   "outputs": [],
   "source": [
    "# <------------------------------------- RandomForestClassifier CV -------------------------------"
   ]
  },
  {
   "cell_type": "code",
   "execution_count": 52,
   "metadata": {},
   "outputs": [
    {
     "name": "stdout",
     "output_type": "stream",
     "text": [
      "Wall time: 3min 37s\n"
     ]
    }
   ],
   "source": [
    "%%time\n",
    "rfcv_f = RandomForestClassifier(\n",
    "    n_estimators=200,\n",
    "    n_jobs=-1,\n",
    "    random_state=17,\n",
    "    **rfcv.best_params_\n",
    "    )\n",
    "\n",
    "rfcv_full, rf_full_pred = full_fit(rfcv_f, X_train_new, y_train_new, X_test_new)\n",
    "\n",
    "mix_full_pred = rf_full_pred\n",
    "\n",
    "# ==> predict\n",
    "write_submission_file(prediction=rf_full_pred,\n",
    "                      filename=experiment['submission_file'])\n",
    "# <== predict"
   ]
  },
  {
   "cell_type": "code",
   "execution_count": null,
   "metadata": {},
   "outputs": [],
   "source": [
    "#  0.76366248083468991 ==> 0.73188"
   ]
  },
  {
   "cell_type": "code",
   "execution_count": null,
   "metadata": {},
   "outputs": [],
   "source": []
  },
  {
   "cell_type": "code",
   "execution_count": null,
   "metadata": {},
   "outputs": [],
   "source": []
  },
  {
   "cell_type": "code",
   "execution_count": null,
   "metadata": {},
   "outputs": [],
   "source": []
  },
  {
   "cell_type": "code",
   "execution_count": null,
   "metadata": {},
   "outputs": [],
   "source": []
  },
  {
   "cell_type": "code",
   "execution_count": null,
   "metadata": {},
   "outputs": [],
   "source": [
    "# ------------------------------------- SGDClassifier CV ------------------------------->"
   ]
  },
  {
   "cell_type": "code",
   "execution_count": 41,
   "metadata": {},
   "outputs": [
    {
     "name": "stdout",
     "output_type": "stream",
     "text": [
      "(69988, 636)\n",
      "Fitting 3 folds for each of 6 candidates, totalling 18 fits\n"
     ]
    },
    {
     "name": "stderr",
     "output_type": "stream",
     "text": [
      "[Parallel(n_jobs=-1)]: Using backend LokyBackend with 4 concurrent workers.\n",
      "[Parallel(n_jobs=-1)]: Done   5 tasks      | elapsed:   40.9s\n",
      "[Parallel(n_jobs=-1)]: Done  10 tasks      | elapsed:   57.7s\n",
      "[Parallel(n_jobs=-1)]: Done  13 out of  18 | elapsed:  1.3min remaining:   30.1s\n",
      "[Parallel(n_jobs=-1)]: Done  15 out of  18 | elapsed:  1.4min remaining:   16.4s\n",
      "[Parallel(n_jobs=-1)]: Done  18 out of  18 | elapsed:  1.6min finished\n"
     ]
    },
    {
     "name": "stdout",
     "output_type": "stream",
     "text": [
      "sgd_cv valid roc_auc: 0.7134461298155231\n",
      "SGD valid roc_auc: 0.7134461298155231\n",
      "Wall time: 1min 57s\n"
     ]
    }
   ],
   "source": [
    "%%time\n",
    "sgd = SGDClassifier(\n",
    "    n_jobs=-1,\n",
    "    random_state=17\n",
    "    )\n",
    "\n",
    "param_grid = {\n",
    "    \"loss\": ['log'],\n",
    "    'penalty' : ['l2', 'l1', 'elasticnet'],\n",
    "    'alpha': [0.0001, 0.001],\n",
    "    'max_iter': [1000]\n",
    "    }\n",
    "\n",
    "cv=3\n",
    "sgdcv, sgdcv_pred, sgdcv_experiment, sgdcv_test_pred = train_clf_cv(\n",
    "    sgd,\n",
    "    cv,\n",
    "    X_train_part,\n",
    "    y_train_part,\n",
    "    X_valid,\n",
    "    y_valid,\n",
    "    X_test_new,\n",
    "    'sgd_cv',\n",
    "    param_grid)\n",
    "print('SGD valid roc_auc: {}'.format(sgdcv_experiment['valid_roc_auc']))"
   ]
  },
  {
   "cell_type": "code",
   "execution_count": 42,
   "metadata": {},
   "outputs": [
    {
     "data": {
      "text/plain": [
       "{'alpha': 0.0001, 'loss': 'log', 'max_iter': 1000, 'penalty': 'l1'}"
      ]
     },
     "execution_count": 42,
     "metadata": {},
     "output_type": "execute_result"
    }
   ],
   "source": [
    "sgdcv.best_params_"
   ]
  },
  {
   "cell_type": "code",
   "execution_count": 219,
   "metadata": {},
   "outputs": [
    {
     "data": {
      "text/plain": [
       "0.71358528606263316"
      ]
     },
     "execution_count": 219,
     "metadata": {},
     "output_type": "execute_result"
    }
   ],
   "source": [
    "roc_auc_score(y_valid, sgdcv_pred)"
   ]
  },
  {
   "cell_type": "code",
   "execution_count": null,
   "metadata": {},
   "outputs": [],
   "source": []
  },
  {
   "cell_type": "code",
   "execution_count": null,
   "metadata": {},
   "outputs": [],
   "source": [
    "# <------------------------------------- SGDClassifier CV -------------------------------"
   ]
  },
  {
   "cell_type": "code",
   "execution_count": null,
   "metadata": {},
   "outputs": [],
   "source": []
  },
  {
   "cell_type": "code",
   "execution_count": null,
   "metadata": {},
   "outputs": [],
   "source": []
  },
  {
   "cell_type": "code",
   "execution_count": null,
   "metadata": {},
   "outputs": [],
   "source": [
    "# ------------------------------------- GradientBoostingClassifier ------------------------------->"
   ]
  },
  {
   "cell_type": "code",
   "execution_count": 54,
   "metadata": {},
   "outputs": [],
   "source": [
    "from sklearn.ensemble import GradientBoostingClassifier"
   ]
  },
  {
   "cell_type": "code",
   "execution_count": 61,
   "metadata": {},
   "outputs": [
    {
     "name": "stdout",
     "output_type": "stream",
     "text": [
      "(69988, 673)\n",
      "gb valid mae: 0.7407626540737695\n",
      "GB valid roc_auc: 0.7407626540737695\n",
      "Wall time: 4min 31s\n"
     ]
    }
   ],
   "source": [
    "%%time\n",
    "gb = GradientBoostingClassifier(\n",
    "    n_estimators=2000,\n",
    "    random_state=17\n",
    "    )\n",
    "\n",
    "gb, gb_pred, gb_experiment, gb_test_pred = train_clf(\n",
    "    gb,\n",
    "    X_train_part,\n",
    "    y_train_part,\n",
    "    X_valid,\n",
    "    y_valid,\n",
    "    X_test_new,\n",
    "    'gb')\n",
    "print('GB valid roc_auc: {}'.format(gb_experiment['valid_roc_auc']))"
   ]
  },
  {
   "cell_type": "code",
   "execution_count": 62,
   "metadata": {},
   "outputs": [
    {
     "data": {
      "text/plain": [
       "0.74076265407376951"
      ]
     },
     "execution_count": 62,
     "metadata": {},
     "output_type": "execute_result"
    }
   ],
   "source": [
    "roc_auc_score(y_valid, gb_pred)"
   ]
  },
  {
   "cell_type": "code",
   "execution_count": 63,
   "metadata": {},
   "outputs": [
    {
     "data": {
      "text/plain": [
       "GradientBoostingClassifier(criterion='friedman_mse', init=None,\n",
       "              learning_rate=0.1, loss='deviance', max_depth=3,\n",
       "              max_features=None, max_leaf_nodes=None,\n",
       "              min_impurity_decrease=0.0, min_impurity_split=None,\n",
       "              min_samples_leaf=1, min_samples_split=2,\n",
       "              min_weight_fraction_leaf=0.0, n_estimators=2000,\n",
       "              n_iter_no_change=None, presort='auto', random_state=17,\n",
       "              subsample=1.0, tol=0.0001, validation_fraction=0.1,\n",
       "              verbose=0, warm_start=False)"
      ]
     },
     "execution_count": 63,
     "metadata": {},
     "output_type": "execute_result"
    }
   ],
   "source": [
    "gb"
   ]
  },
  {
   "cell_type": "code",
   "execution_count": null,
   "metadata": {},
   "outputs": [],
   "source": [
    "# <------------------------------------- GradientBoostingClassifier -------------------------------"
   ]
  },
  {
   "cell_type": "code",
   "execution_count": null,
   "metadata": {},
   "outputs": [],
   "source": []
  },
  {
   "cell_type": "code",
   "execution_count": null,
   "metadata": {},
   "outputs": [],
   "source": []
  },
  {
   "cell_type": "code",
   "execution_count": null,
   "metadata": {},
   "outputs": [],
   "source": []
  },
  {
   "cell_type": "code",
   "execution_count": 48,
   "metadata": {},
   "outputs": [],
   "source": [
    "transformed_train_ = pd.DataFrame(transformed_train_df.todense())\n",
    "transformed_test_ = pd.DataFrame(transformed_test_df.todense())\n",
    "\n",
    "X_train_logit, y_train_logit = transformed_train_.values, y_train\n",
    "X_test_logit = transformed_test_.values\n",
    "\n",
    "X_train_part_logit, X_valid_logit, y_train_part_logit, y_valid_logit = \\\n",
    "    train_test_split(\n",
    "        X_train_logit, \n",
    "        y_train_logit, \n",
    "        test_size=0.3, \n",
    "        random_state=17)"
   ]
  },
  {
   "cell_type": "code",
   "execution_count": 49,
   "metadata": {},
   "outputs": [],
   "source": [
    "logit_pipe = Pipeline([('scaler', StandardScaler()),\n",
    "                       ('logit', LogisticRegression(C=1, random_state=17, solver='liblinear'))])"
   ]
  },
  {
   "cell_type": "code",
   "execution_count": 50,
   "metadata": {},
   "outputs": [
    {
     "data": {
      "text/plain": [
       "0.69470943160204324"
      ]
     },
     "execution_count": 50,
     "metadata": {},
     "output_type": "execute_result"
    }
   ],
   "source": [
    "logit_pipe.fit(X_train_part_logit, y_train_part_logit)\n",
    "logit_valid_pred = logit_pipe.predict_proba(X_valid_logit)[:, 1]\n",
    "\n",
    "roc_auc_score(y_valid_logit, logit_valid_pred)"
   ]
  },
  {
   "cell_type": "code",
   "execution_count": null,
   "metadata": {},
   "outputs": [],
   "source": []
  },
  {
   "cell_type": "code",
   "execution_count": null,
   "metadata": {},
   "outputs": [],
   "source": []
  },
  {
   "cell_type": "code",
   "execution_count": null,
   "metadata": {},
   "outputs": [],
   "source": []
  },
  {
   "cell_type": "code",
   "execution_count": null,
   "metadata": {},
   "outputs": [],
   "source": []
  },
  {
   "cell_type": "code",
   "execution_count": null,
   "metadata": {},
   "outputs": [],
   "source": []
  },
  {
   "cell_type": "code",
   "execution_count": null,
   "metadata": {},
   "outputs": [],
   "source": [
    "lgm, lgm_full_pred = full_lgm_fit(lgm, X_train_new, y_train_new, X_test_new)\n",
    "\n",
    "mix_full_pred = lgm_full_pred\n",
    "\n",
    "# ==> predict\n",
    "write_submission_file(prediction=mix_full_pred,\n",
    "                      filename=experiment['submission_file'])\n",
    "# <== predict"
   ]
  },
  {
   "cell_type": "code",
   "execution_count": null,
   "metadata": {},
   "outputs": [],
   "source": [
    "experiment"
   ]
  },
  {
   "cell_type": "code",
   "execution_count": null,
   "metadata": {},
   "outputs": [],
   "source": [
    " 0.74651807551674698 ==> 0.73161\n",
    " 0.74969840853363967 ==> 0.73174"
   ]
  },
  {
   "cell_type": "code",
   "execution_count": null,
   "metadata": {},
   "outputs": [],
   "source": []
  },
  {
   "cell_type": "code",
   "execution_count": null,
   "metadata": {
    "_uuid": "12c0c418da2eadabe087e6000ac6bb0ccbdbdb44"
   },
   "outputs": [],
   "source": []
  },
  {
   "cell_type": "code",
   "execution_count": null,
   "metadata": {},
   "outputs": [],
   "source": []
  },
  {
   "cell_type": "code",
   "execution_count": null,
   "metadata": {},
   "outputs": [],
   "source": []
  },
  {
   "cell_type": "code",
   "execution_count": null,
   "metadata": {},
   "outputs": [],
   "source": []
  },
  {
   "cell_type": "code",
   "execution_count": 53,
   "metadata": {},
   "outputs": [],
   "source": [
    "from catboost import CatBoostClassifier"
   ]
  },
  {
   "cell_type": "code",
   "execution_count": 54,
   "metadata": {},
   "outputs": [
    {
     "data": {
      "text/plain": [
       "((70000, 675), (70000,))"
      ]
     },
     "execution_count": 54,
     "metadata": {},
     "output_type": "execute_result"
    }
   ],
   "source": [
    "X_train_part.shape, y_train_part.shape"
   ]
  },
  {
   "cell_type": "code",
   "execution_count": 64,
   "metadata": {},
   "outputs": [
    {
     "name": "stdout",
     "output_type": "stream",
     "text": [
      "(70000, 675)\n",
      "0:\tlearn: 0.6618198\ttotal: 106ms\tremaining: 1m 46s\n",
      "50:\tlearn: 0.4384663\ttotal: 5.87s\tremaining: 1m 49s\n",
      "100:\tlearn: 0.4303645\ttotal: 11.6s\tremaining: 1m 43s\n",
      "150:\tlearn: 0.4251226\ttotal: 17.3s\tremaining: 1m 37s\n",
      "200:\tlearn: 0.4208626\ttotal: 23.1s\tremaining: 1m 31s\n",
      "250:\tlearn: 0.4172117\ttotal: 28.8s\tremaining: 1m 25s\n",
      "300:\tlearn: 0.4139052\ttotal: 34.5s\tremaining: 1m 20s\n",
      "350:\tlearn: 0.4112452\ttotal: 40.2s\tremaining: 1m 14s\n",
      "400:\tlearn: 0.4089064\ttotal: 45.8s\tremaining: 1m 8s\n",
      "450:\tlearn: 0.4067437\ttotal: 51.5s\tremaining: 1m 2s\n",
      "500:\tlearn: 0.4045737\ttotal: 57.4s\tremaining: 57.1s\n",
      "550:\tlearn: 0.4022764\ttotal: 1m 3s\tremaining: 51.4s\n",
      "600:\tlearn: 0.4001437\ttotal: 1m 8s\tremaining: 45.6s\n",
      "650:\tlearn: 0.3984185\ttotal: 1m 14s\tremaining: 39.9s\n",
      "700:\tlearn: 0.3966277\ttotal: 1m 19s\tremaining: 34.1s\n",
      "750:\tlearn: 0.3949125\ttotal: 1m 25s\tremaining: 28.4s\n",
      "800:\tlearn: 0.3932332\ttotal: 1m 31s\tremaining: 22.7s\n",
      "850:\tlearn: 0.3915307\ttotal: 1m 37s\tremaining: 17s\n",
      "900:\tlearn: 0.3896691\ttotal: 1m 42s\tremaining: 11.3s\n",
      "950:\tlearn: 0.3880665\ttotal: 1m 48s\tremaining: 5.58s\n",
      "999:\tlearn: 0.3865159\ttotal: 1m 53s\tremaining: 0us\n",
      "cat valid mae: 0.7474974694494632\n",
      "XGB valid roc_auc: 0.7474974694494632\n",
      "Wall time: 2min 4s\n"
     ]
    }
   ],
   "source": [
    "%%time\n",
    "\n",
    "experiment_name = 'xgb' + time.strftime(\"%d_%m_%Y_%H_%M_%S\")\n",
    "experiment['time'] = experiment_name\n",
    "experiment['submission_file'] = experiment['time'] + '.csv'\n",
    "\n",
    "#     colsample_bylevel=0.7,\n",
    "#     subsample=0.8,\n",
    "#     colsample_bytree=0.8,\n",
    "#     max_depth=10,\n",
    "#     learning_rate=0.05,\n",
    "#     n_estimators=500,\n",
    "#     random_state=17,\n",
    "\n",
    "cat = CatBoostClassifier(\n",
    "    n_estimators=1000,\n",
    "    bootstrap_type='Bernoulli',\n",
    "    subsample=0.9,\n",
    "    colsample_bylevel=0.7,\n",
    "    verbose=50,\n",
    "    random_state=17)\n",
    "\n",
    "cat, cat_pred, cat_experiment, cat_test_pred = train_clf(\n",
    "    cat,\n",
    "    X_train_part.toarray(),\n",
    "    y_train_part,\n",
    "    X_valid.toarray(),\n",
    "    y_valid,\n",
    "    X_test_new.toarray(),\n",
    "    'cat')\n",
    "print('XGB valid roc_auc: {}'.format(cat_experiment['valid_roc_auc']))"
   ]
  },
  {
   "cell_type": "code",
   "execution_count": 58,
   "metadata": {},
   "outputs": [
    {
     "data": {
      "text/plain": [
       "0.1033959985"
      ]
     },
     "execution_count": 58,
     "metadata": {},
     "output_type": "execute_result"
    }
   ],
   "source": [
    "cat.learning_rate_"
   ]
  },
  {
   "cell_type": "code",
   "execution_count": 59,
   "metadata": {},
   "outputs": [
    {
     "data": {
      "text/plain": [
       "{'random_state': 17,\n",
       " 'colsample_bylevel': 0.7,\n",
       " 'n_estimators': 500,\n",
       " 'subsample': 0.9,\n",
       " 'bootstrap_type': 'Bernoulli',\n",
       " 'verbose': 50,\n",
       " 'loss_function': 'Logloss'}"
      ]
     },
     "execution_count": 59,
     "metadata": {},
     "output_type": "execute_result"
    }
   ],
   "source": [
    "cat.get_params()"
   ]
  },
  {
   "cell_type": "code",
   "execution_count": 60,
   "metadata": {},
   "outputs": [
    {
     "data": {
      "text/plain": [
       "0.7458006103507695"
      ]
     },
     "execution_count": 60,
     "metadata": {},
     "output_type": "execute_result"
    }
   ],
   "source": [
    "roc_auc_score(y_valid, cat_pred)  #100: 0.7401257596673114"
   ]
  },
  {
   "cell_type": "code",
   "execution_count": null,
   "metadata": {},
   "outputs": [],
   "source": []
  },
  {
   "cell_type": "code",
   "execution_count": 63,
   "metadata": {},
   "outputs": [
    {
     "name": "stdout",
     "output_type": "stream",
     "text": [
      "0:\tlearn: 0.6314642\ttotal: 148ms\tremaining: 1m 13s\n",
      "50:\tlearn: 0.4313234\ttotal: 7.72s\tremaining: 1m 8s\n",
      "100:\tlearn: 0.4226683\ttotal: 15.6s\tremaining: 1m 1s\n",
      "150:\tlearn: 0.4167961\ttotal: 23.6s\tremaining: 54.6s\n",
      "200:\tlearn: 0.4123129\ttotal: 31.3s\tremaining: 46.6s\n",
      "250:\tlearn: 0.4083677\ttotal: 39.1s\tremaining: 38.8s\n",
      "300:\tlearn: 0.4052363\ttotal: 47.5s\tremaining: 31.4s\n",
      "350:\tlearn: 0.4018533\ttotal: 55.9s\tremaining: 23.7s\n",
      "400:\tlearn: 0.3988250\ttotal: 1m 3s\tremaining: 15.8s\n",
      "450:\tlearn: 0.3958752\ttotal: 1m 11s\tremaining: 7.81s\n",
      "499:\tlearn: 0.3929870\ttotal: 1m 19s\tremaining: 0us\n",
      "Wall time: 1min 32s\n"
     ]
    }
   ],
   "source": [
    "%%time\n",
    "cat_full, cat_full_pred = full_fit(\n",
    "    cat, \n",
    "    X_train_new.toarray(), \n",
    "    y_train_new, \n",
    "    X_test_new.toarray())\n",
    "\n",
    "mix_full_pred = cat_full_pred\n",
    "\n",
    "# ==> predict\n",
    "write_submission_file(prediction=cat_full_pred,\n",
    "                      filename=experiment['submission_file'])\n",
    "# <== predict"
   ]
  },
  {
   "cell_type": "code",
   "execution_count": 61,
   "metadata": {},
   "outputs": [
    {
     "data": {
      "text/plain": [
       "{'time': 'cat06_12_2018_12_46_00',\n",
       " 'transformed_train_df_shape': (70000, 675),\n",
       " 'features': ['distance',\n",
       "  'deptime',\n",
       "  'deptime_hour',\n",
       "  'origin',\n",
       "  'dest',\n",
       "  'carrier',\n",
       "  'day_of_month',\n",
       "  'day_of_week',\n",
       "  'month',\n",
       "  'deptime_night',\n",
       "  'deptime_day',\n",
       "  'deptime_eve',\n",
       "  'deptime_morning'],\n",
       " 'clf': 'cat',\n",
       " 'valid_roc_auc': 0.7458006103507695,\n",
       " 'np.expm1_valid_mae': 0.7458006103507695}"
      ]
     },
     "execution_count": 61,
     "metadata": {},
     "output_type": "execute_result"
    }
   ],
   "source": [
    "cat_experiment"
   ]
  },
  {
   "cell_type": "code",
   "execution_count": null,
   "metadata": {},
   "outputs": [],
   "source": [
    "#  0.7458006103507695 ==> 0.73520"
   ]
  },
  {
   "cell_type": "code",
   "execution_count": null,
   "metadata": {},
   "outputs": [],
   "source": []
  },
  {
   "cell_type": "code",
   "execution_count": null,
   "metadata": {},
   "outputs": [],
   "source": []
  }
 ],
 "metadata": {
  "kernelspec": {
   "display_name": "Python 3",
   "language": "python",
   "name": "python3"
  },
  "language_info": {
   "codemirror_mode": {
    "name": "ipython",
    "version": 3
   },
   "file_extension": ".py",
   "mimetype": "text/x-python",
   "name": "python",
   "nbconvert_exporter": "python",
   "pygments_lexer": "ipython3",
   "version": "3.6.6"
  }
 },
 "nbformat": 4,
 "nbformat_minor": 1
}
